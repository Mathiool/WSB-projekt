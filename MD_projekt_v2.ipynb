{
 "cells": [
  {
   "cell_type": "markdown",
   "id": "b913bc15",
   "metadata": {},
   "source": [
    "## Opis:\n",
    "\n",
    "W poniższym projekcie wykorzystano dane dotyczące wypadków z Nowego Yorku.\n",
    "Projekt ma na celu podstawową analizę powyższych danych, przestawienie informacji o wypadkach ze wskazaniem śmiertelności oraz liczby rannych a także wskazanie domniemanych przyczyn.  \n",
    "Dane zostały wyczyszczone oraz przekształcone przy użyciu bilbioteki Pandas.\n",
    "Wykorzystując biblioteki Pandas oraz Matplotlib przygotowano tabele oraz wykresy prezentujące poniższe informacje: \n",
    "- lista głównych przyczyn wypadków,\n",
    "- lista typów pojazdów biorących udział w wypadkach,\n",
    "- informacje o wypadkach w dzielnicach,\n",
    "- liczba rannych oraz liczba wypadków śmiertelnych w ujęciu miesięcznym,\n",
    "- zestawienie procentowe rannych w ujęciu miesięcznym,\n",
    "- rozkład ilości wypadków w ciągu dnia."
   ]
  },
  {
   "cell_type": "markdown",
   "id": "ee585753",
   "metadata": {},
   "source": [
    "## Biblioteki + ustawienia:"
   ]
  },
  {
   "cell_type": "code",
   "execution_count": 1,
   "id": "dc519565",
   "metadata": {},
   "outputs": [],
   "source": [
    "import pandas as pd\n",
    "import matplotlib.pyplot as plt"
   ]
  },
  {
   "cell_type": "code",
   "execution_count": 2,
   "id": "d4f281dc",
   "metadata": {},
   "outputs": [],
   "source": [
    "pd.set_option('display.max_columns', 50)\n",
    "pd.set_option('display.width', 1000)\n",
    "pd.set_option('display.max_colwidth', 100)\n",
    "pd.set_option('display.max_rows', 50)"
   ]
  },
  {
   "cell_type": "markdown",
   "id": "f8e45bcc",
   "metadata": {},
   "source": [
    "## Dane:"
   ]
  },
  {
   "cell_type": "code",
   "execution_count": 3,
   "id": "89a6f755",
   "metadata": {},
   "outputs": [],
   "source": [
    "csv_file = 'nypd-motor-vehicle-collisions.csv'\n",
    "\n",
    "columns_to_use = ['ACCIDENT DATE', 'ACCIDENT TIME', 'BOROUGH',\n",
    "        'NUMBER OF PERSONS INJURED', 'NUMBER OF PERSONS KILLED',\n",
    "        'NUMBER OF PEDESTRIANS INJURED', 'NUMBER OF PEDESTRIANS KILLED',\n",
    "        'NUMBER OF CYCLIST INJURED', 'NUMBER OF CYCLIST KILLED',\n",
    "        'NUMBER OF MOTORIST INJURED', 'NUMBER OF MOTORIST KILLED',\n",
    "        'CONTRIBUTING FACTOR VEHICLE 1',\n",
    "        'COLLISION_ID', 'VEHICLE TYPE CODE 1']\n",
    "\n",
    "df = pd.read_csv(csv_file, usecols=columns_to_use)"
   ]
  },
  {
   "cell_type": "code",
   "execution_count": 4,
   "id": "aa67bc08",
   "metadata": {
    "scrolled": true
   },
   "outputs": [
    {
     "data": {
      "text/html": [
       "<div>\n",
       "<style scoped>\n",
       "    .dataframe tbody tr th:only-of-type {\n",
       "        vertical-align: middle;\n",
       "    }\n",
       "\n",
       "    .dataframe tbody tr th {\n",
       "        vertical-align: top;\n",
       "    }\n",
       "\n",
       "    .dataframe thead th {\n",
       "        text-align: right;\n",
       "    }\n",
       "</style>\n",
       "<table border=\"1\" class=\"dataframe\">\n",
       "  <thead>\n",
       "    <tr style=\"text-align: right;\">\n",
       "      <th></th>\n",
       "      <th>ACCIDENT DATE</th>\n",
       "      <th>ACCIDENT TIME</th>\n",
       "      <th>BOROUGH</th>\n",
       "      <th>NUMBER OF PERSONS INJURED</th>\n",
       "      <th>NUMBER OF PERSONS KILLED</th>\n",
       "      <th>NUMBER OF PEDESTRIANS INJURED</th>\n",
       "      <th>NUMBER OF PEDESTRIANS KILLED</th>\n",
       "      <th>NUMBER OF CYCLIST INJURED</th>\n",
       "      <th>NUMBER OF CYCLIST KILLED</th>\n",
       "      <th>NUMBER OF MOTORIST INJURED</th>\n",
       "      <th>NUMBER OF MOTORIST KILLED</th>\n",
       "      <th>CONTRIBUTING FACTOR VEHICLE 1</th>\n",
       "      <th>COLLISION_ID</th>\n",
       "      <th>VEHICLE TYPE CODE 1</th>\n",
       "    </tr>\n",
       "  </thead>\n",
       "  <tbody>\n",
       "    <tr>\n",
       "      <th>0</th>\n",
       "      <td>2019-08-05T00:00:00.000</td>\n",
       "      <td>16:30</td>\n",
       "      <td>QUEENS</td>\n",
       "      <td>0.0</td>\n",
       "      <td>0.0</td>\n",
       "      <td>0</td>\n",
       "      <td>0</td>\n",
       "      <td>0</td>\n",
       "      <td>0</td>\n",
       "      <td>0</td>\n",
       "      <td>0</td>\n",
       "      <td>Passing Too Closely</td>\n",
       "      <td>4184637</td>\n",
       "      <td>Sedan</td>\n",
       "    </tr>\n",
       "    <tr>\n",
       "      <th>1</th>\n",
       "      <td>2019-08-27T00:00:00.000</td>\n",
       "      <td>16:02</td>\n",
       "      <td>BROOKLYN</td>\n",
       "      <td>0.0</td>\n",
       "      <td>0.0</td>\n",
       "      <td>0</td>\n",
       "      <td>0</td>\n",
       "      <td>0</td>\n",
       "      <td>0</td>\n",
       "      <td>0</td>\n",
       "      <td>0</td>\n",
       "      <td>Passing Too Closely</td>\n",
       "      <td>4195773</td>\n",
       "      <td>Station Wagon/Sport Utility Vehicle</td>\n",
       "    </tr>\n",
       "    <tr>\n",
       "      <th>2</th>\n",
       "      <td>2019-08-15T00:00:00.000</td>\n",
       "      <td>17:57</td>\n",
       "      <td>MANHATTAN</td>\n",
       "      <td>1.0</td>\n",
       "      <td>0.0</td>\n",
       "      <td>0</td>\n",
       "      <td>0</td>\n",
       "      <td>0</td>\n",
       "      <td>0</td>\n",
       "      <td>1</td>\n",
       "      <td>0</td>\n",
       "      <td>Driver Inattention/Distraction</td>\n",
       "      <td>4202457</td>\n",
       "      <td>Sedan</td>\n",
       "    </tr>\n",
       "    <tr>\n",
       "      <th>3</th>\n",
       "      <td>2019-08-30T00:00:00.000</td>\n",
       "      <td>21:53</td>\n",
       "      <td>BRONX</td>\n",
       "      <td>0.0</td>\n",
       "      <td>0.0</td>\n",
       "      <td>0</td>\n",
       "      <td>0</td>\n",
       "      <td>0</td>\n",
       "      <td>0</td>\n",
       "      <td>0</td>\n",
       "      <td>0</td>\n",
       "      <td>Unspecified</td>\n",
       "      <td>4198749</td>\n",
       "      <td>Taxi</td>\n",
       "    </tr>\n",
       "    <tr>\n",
       "      <th>4</th>\n",
       "      <td>2019-08-06T00:00:00.000</td>\n",
       "      <td>9:45</td>\n",
       "      <td>MANHATTAN</td>\n",
       "      <td>1.0</td>\n",
       "      <td>0.0</td>\n",
       "      <td>0</td>\n",
       "      <td>0</td>\n",
       "      <td>1</td>\n",
       "      <td>0</td>\n",
       "      <td>0</td>\n",
       "      <td>0</td>\n",
       "      <td>Driver Inattention/Distraction</td>\n",
       "      <td>4183798</td>\n",
       "      <td>Station Wagon/Sport Utility Vehicle</td>\n",
       "    </tr>\n",
       "  </tbody>\n",
       "</table>\n",
       "</div>"
      ],
      "text/plain": [
       "             ACCIDENT DATE ACCIDENT TIME    BOROUGH  NUMBER OF PERSONS INJURED  NUMBER OF PERSONS KILLED  NUMBER OF PEDESTRIANS INJURED  NUMBER OF PEDESTRIANS KILLED  NUMBER OF CYCLIST INJURED  NUMBER OF CYCLIST KILLED  NUMBER OF MOTORIST INJURED  NUMBER OF MOTORIST KILLED   CONTRIBUTING FACTOR VEHICLE 1  COLLISION_ID                  VEHICLE TYPE CODE 1\n",
       "0  2019-08-05T00:00:00.000         16:30     QUEENS                        0.0                       0.0                              0                             0                          0                         0                           0                          0             Passing Too Closely       4184637                                Sedan\n",
       "1  2019-08-27T00:00:00.000         16:02   BROOKLYN                        0.0                       0.0                              0                             0                          0                         0                           0                          0             Passing Too Closely       4195773  Station Wagon/Sport Utility Vehicle\n",
       "2  2019-08-15T00:00:00.000         17:57  MANHATTAN                        1.0                       0.0                              0                             0                          0                         0                           1                          0  Driver Inattention/Distraction       4202457                                Sedan\n",
       "3  2019-08-30T00:00:00.000         21:53      BRONX                        0.0                       0.0                              0                             0                          0                         0                           0                          0                     Unspecified       4198749                                 Taxi\n",
       "4  2019-08-06T00:00:00.000          9:45  MANHATTAN                        1.0                       0.0                              0                             0                          1                         0                           0                          0  Driver Inattention/Distraction       4183798  Station Wagon/Sport Utility Vehicle"
      ]
     },
     "execution_count": 4,
     "metadata": {},
     "output_type": "execute_result"
    }
   ],
   "source": [
    "df.head(5)"
   ]
  },
  {
   "cell_type": "code",
   "execution_count": 5,
   "id": "cc291e50",
   "metadata": {
    "scrolled": false
   },
   "outputs": [
    {
     "name": "stdout",
     "output_type": "stream",
     "text": [
      "<class 'pandas.core.frame.DataFrame'>\n",
      "RangeIndex: 1612178 entries, 0 to 1612177\n",
      "Data columns (total 14 columns):\n",
      " #   Column                         Non-Null Count    Dtype  \n",
      "---  ------                         --------------    -----  \n",
      " 0   ACCIDENT DATE                  1612178 non-null  object \n",
      " 1   ACCIDENT TIME                  1612178 non-null  object \n",
      " 2   BOROUGH                        1127553 non-null  object \n",
      " 3   NUMBER OF PERSONS INJURED      1612161 non-null  float64\n",
      " 4   NUMBER OF PERSONS KILLED       1612145 non-null  float64\n",
      " 5   NUMBER OF PEDESTRIANS INJURED  1612178 non-null  int64  \n",
      " 6   NUMBER OF PEDESTRIANS KILLED   1612178 non-null  int64  \n",
      " 7   NUMBER OF CYCLIST INJURED      1612178 non-null  int64  \n",
      " 8   NUMBER OF CYCLIST KILLED       1612178 non-null  int64  \n",
      " 9   NUMBER OF MOTORIST INJURED     1612178 non-null  int64  \n",
      " 10  NUMBER OF MOTORIST KILLED      1612178 non-null  int64  \n",
      " 11  CONTRIBUTING FACTOR VEHICLE 1  1607854 non-null  object \n",
      " 12  COLLISION_ID                   1612178 non-null  int64  \n",
      " 13  VEHICLE TYPE CODE 1            1606597 non-null  object \n",
      "dtypes: float64(2), int64(7), object(5)\n",
      "memory usage: 172.2+ MB\n"
     ]
    }
   ],
   "source": [
    "df.info()"
   ]
  },
  {
   "cell_type": "markdown",
   "id": "649431b5",
   "metadata": {},
   "source": [
    "# Czyszczenie i modyfikacja danych:"
   ]
  },
  {
   "cell_type": "code",
   "execution_count": 6,
   "id": "48fec3a9",
   "metadata": {
    "scrolled": true
   },
   "outputs": [],
   "source": [
    "df.drop_duplicates(inplace=True)\n",
    "df.drop_duplicates(subset='COLLISION_ID', inplace=True)"
   ]
  },
  {
   "cell_type": "code",
   "execution_count": 7,
   "id": "d41165f2",
   "metadata": {},
   "outputs": [],
   "source": [
    "df['BOROUGH'] = df['BOROUGH'].fillna('Missing BOROUGH')"
   ]
  },
  {
   "cell_type": "code",
   "execution_count": 8,
   "id": "dbea1cd2",
   "metadata": {},
   "outputs": [],
   "source": [
    "df.dropna(inplace=True)"
   ]
  },
  {
   "cell_type": "markdown",
   "id": "b1fc8ddc",
   "metadata": {},
   "source": [
    "## Dodanie kolumny DateTime:"
   ]
  },
  {
   "cell_type": "code",
   "execution_count": 9,
   "id": "d94f444b",
   "metadata": {},
   "outputs": [
    {
     "name": "stdout",
     "output_type": "stream",
     "text": [
      "Dodano kolumnę ACCIDENT DATE AND TIME.\n"
     ]
    }
   ],
   "source": [
    "def create_datetime_column(new_column_name: str = 'ACCIDENT DATE AND TIME',\n",
    "                           date_column_name: str = 'ACCIDENT DATE',\n",
    "                           time_column_name: str = 'ACCIDENT TIME',\n",
    "                           data: pd.DataFrame = df) -> pd.DataFrame:\n",
    "    if new_column_name in data.columns:\n",
    "        print(f'Kolumna {new_column_name} już istnieje.')\n",
    "    \n",
    "    else:\n",
    "        data[date_column_name] = data[date_column_name].apply(lambda x: x.split('T')[0])\n",
    "        data[date_column_name] = data[date_column_name] + data[time_column_name]\n",
    "        data[date_column_name] = pd.to_datetime(data[date_column_name], format='%Y-%m-%d%H:%M')\n",
    "        data.rename(columns={date_column_name: new_column_name}, inplace=True)\n",
    "        print(f'Dodano kolumnę {new_column_name}.')\n",
    "\n",
    "create_datetime_column()"
   ]
  },
  {
   "cell_type": "markdown",
   "id": "b7432d25",
   "metadata": {},
   "source": [
    "## Dodanie dnia tygodnia i miesiąca"
   ]
  },
  {
   "cell_type": "code",
   "execution_count": 10,
   "id": "be160cb1",
   "metadata": {},
   "outputs": [
    {
     "name": "stdout",
     "output_type": "stream",
     "text": [
      "Dodano kolumnę WEEKDAY.\n"
     ]
    }
   ],
   "source": [
    "def create_weekday_column(new_column_name: str = 'WEEKDAY',\n",
    "                          date_time_column_name: str = 'ACCIDENT DATE AND TIME',\n",
    "                          column_name_to_rename: str = 'ACCIDENT TIME',\n",
    "                          data: pd.DataFrame = df) -> pd.DataFrame:\n",
    "    if new_column_name in data.columns:\n",
    "        print(f'Kolumna {new_column_name} już istnieje.')\n",
    "    else:\n",
    "        data.rename(columns={column_name_to_rename: new_column_name}, inplace=True)\n",
    "        data[new_column_name] = data[date_time_column_name].dt.dayofweek\n",
    "        data[new_column_name].map({0: 'Monday', 1: 'Tuesday', 2: 'Wednesday', 3: 'Thursday',\n",
    "                                   4: 'Friday', 5: 'Saturday', 6: 'Sunday'})\n",
    "        print(f'Dodano kolumnę {new_column_name}.')\n",
    "\n",
    "\n",
    "create_weekday_column()"
   ]
  },
  {
   "cell_type": "code",
   "execution_count": 11,
   "id": "3d75dcd1",
   "metadata": {},
   "outputs": [
    {
     "name": "stdout",
     "output_type": "stream",
     "text": [
      "Dodano kolumnę MONTH.\n"
     ]
    }
   ],
   "source": [
    "def create_month_column(new_column_name: str = 'MONTH',\n",
    "                        date_time_column_name: str = 'ACCIDENT DATE AND TIME',\n",
    "                        data: pd.DataFrame = df) -> pd.DataFrame:\n",
    "    if new_column_name in data.columns:\n",
    "        print(f'Kolumna {new_column_name} już istnieje.')\n",
    "\n",
    "    else:\n",
    "        month = data[date_time_column_name].dt.month\n",
    "        data.insert(2, new_column_name, month)\n",
    "        print(f'Dodano kolumnę {new_column_name}.')\n",
    "\n",
    "\n",
    "create_month_column()"
   ]
  },
  {
   "cell_type": "markdown",
   "id": "80869f58",
   "metadata": {},
   "source": [
    "## Sprawdzenie sum rannych i zabitych:"
   ]
  },
  {
   "cell_type": "code",
   "execution_count": 12,
   "id": "235f1c21",
   "metadata": {},
   "outputs": [
    {
     "name": "stdout",
     "output_type": "stream",
     "text": [
      "Dane poprawiono.\n"
     ]
    }
   ],
   "source": [
    "def check_injured_sums(column_with_sum: str = 'NUMBER OF PERSONS INJURED',\n",
    "                       injured_type_one: str = 'NUMBER OF CYCLIST INJURED',\n",
    "                       injured_type_two: str = 'NUMBER OF CYCLIST INJURED',\n",
    "                       injured_type_three: str = 'NUMBER OF MOTORIST INJURED',\n",
    "                       data: pd.DataFrame = df) -> pd.DataFrame:\n",
    "    df_with_incorrect = data[(data[column_with_sum]==data[injured_type_one]+data[injured_type_two]+data[injured_type_three])==False]\n",
    "    if len(df_with_incorrect) == 0:\n",
    "        print('Dane rannych się zgadzają.')\n",
    "    else:\n",
    "        data[column_with_sum] = data[injured_type_one]+data[injured_type_two]+data[injured_type_three]\n",
    "        print('Dane poprawiono.')\n",
    "check_injured_sums()"
   ]
  },
  {
   "cell_type": "code",
   "execution_count": 13,
   "id": "2da78421",
   "metadata": {
    "scrolled": true
   },
   "outputs": [
    {
     "name": "stdout",
     "output_type": "stream",
     "text": [
      "Dane rannych się zgadzają.\n"
     ]
    }
   ],
   "source": [
    "def check_killed_sums(column_with_sum: str = 'NUMBER OF PERSONS KILLED',\n",
    "                      injured_type_one: str = 'NUMBER OF CYCLIST KILLED',\n",
    "                      injured_type_two: str = 'NUMBER OF CYCLIST KILLED',\n",
    "                      injured_type_three: str = 'NUMBER OF MOTORIST KILLED',\n",
    "                      data: pd.DataFrame = df) -> pd.DataFrame:\n",
    "    df_with_incorrect = data[(data[column_with_sum]==data[injured_type_one]+data[injured_type_two]+data[injured_type_three])==False]\n",
    "    if len(df_with_incorrect) == 0:\n",
    "        print('Dane zabitych się zgadzają.')\n",
    "    else:\n",
    "        data[column_with_sum] = data[injured_type_one]+data[injured_type_two]+data[injured_type_three]\n",
    "        print('Dane poprawiono.')\n",
    "check_injured_sums()"
   ]
  },
  {
   "cell_type": "code",
   "execution_count": 14,
   "id": "0411a4cc",
   "metadata": {
    "scrolled": true
   },
   "outputs": [
    {
     "name": "stdout",
     "output_type": "stream",
     "text": [
      "<class 'pandas.core.frame.DataFrame'>\n",
      "Int64Index: 1211802 entries, 0 to 1612019\n",
      "Data columns (total 15 columns):\n",
      " #   Column                         Non-Null Count    Dtype         \n",
      "---  ------                         --------------    -----         \n",
      " 0   ACCIDENT DATE AND TIME         1211802 non-null  datetime64[ns]\n",
      " 1   WEEKDAY                        1211802 non-null  int64         \n",
      " 2   MONTH                          1211802 non-null  int64         \n",
      " 3   BOROUGH                        1211802 non-null  object        \n",
      " 4   NUMBER OF PERSONS INJURED      1211802 non-null  int64         \n",
      " 5   NUMBER OF PERSONS KILLED       1211802 non-null  float64       \n",
      " 6   NUMBER OF PEDESTRIANS INJURED  1211802 non-null  int64         \n",
      " 7   NUMBER OF PEDESTRIANS KILLED   1211802 non-null  int64         \n",
      " 8   NUMBER OF CYCLIST INJURED      1211802 non-null  int64         \n",
      " 9   NUMBER OF CYCLIST KILLED       1211802 non-null  int64         \n",
      " 10  NUMBER OF MOTORIST INJURED     1211802 non-null  int64         \n",
      " 11  NUMBER OF MOTORIST KILLED      1211802 non-null  int64         \n",
      " 12  CONTRIBUTING FACTOR VEHICLE 1  1211802 non-null  object        \n",
      " 13  COLLISION_ID                   1211802 non-null  int64         \n",
      " 14  VEHICLE TYPE CODE 1            1211802 non-null  object        \n",
      "dtypes: datetime64[ns](1), float64(1), int64(10), object(3)\n",
      "memory usage: 147.9+ MB\n"
     ]
    }
   ],
   "source": [
    "df.info()"
   ]
  },
  {
   "cell_type": "code",
   "execution_count": 15,
   "id": "8da9c3f4",
   "metadata": {
    "scrolled": false
   },
   "outputs": [
    {
     "data": {
      "text/html": [
       "<div>\n",
       "<style scoped>\n",
       "    .dataframe tbody tr th:only-of-type {\n",
       "        vertical-align: middle;\n",
       "    }\n",
       "\n",
       "    .dataframe tbody tr th {\n",
       "        vertical-align: top;\n",
       "    }\n",
       "\n",
       "    .dataframe thead th {\n",
       "        text-align: right;\n",
       "    }\n",
       "</style>\n",
       "<table border=\"1\" class=\"dataframe\">\n",
       "  <thead>\n",
       "    <tr style=\"text-align: right;\">\n",
       "      <th></th>\n",
       "      <th>ACCIDENT DATE AND TIME</th>\n",
       "      <th>WEEKDAY</th>\n",
       "      <th>MONTH</th>\n",
       "      <th>BOROUGH</th>\n",
       "      <th>NUMBER OF PERSONS INJURED</th>\n",
       "      <th>NUMBER OF PERSONS KILLED</th>\n",
       "      <th>NUMBER OF PEDESTRIANS INJURED</th>\n",
       "      <th>NUMBER OF PEDESTRIANS KILLED</th>\n",
       "      <th>NUMBER OF CYCLIST INJURED</th>\n",
       "      <th>NUMBER OF CYCLIST KILLED</th>\n",
       "      <th>NUMBER OF MOTORIST INJURED</th>\n",
       "      <th>NUMBER OF MOTORIST KILLED</th>\n",
       "      <th>CONTRIBUTING FACTOR VEHICLE 1</th>\n",
       "      <th>COLLISION_ID</th>\n",
       "      <th>VEHICLE TYPE CODE 1</th>\n",
       "    </tr>\n",
       "  </thead>\n",
       "  <tbody>\n",
       "    <tr>\n",
       "      <th>0</th>\n",
       "      <td>2019-08-05 16:30:00</td>\n",
       "      <td>0</td>\n",
       "      <td>8</td>\n",
       "      <td>QUEENS</td>\n",
       "      <td>0</td>\n",
       "      <td>0.0</td>\n",
       "      <td>0</td>\n",
       "      <td>0</td>\n",
       "      <td>0</td>\n",
       "      <td>0</td>\n",
       "      <td>0</td>\n",
       "      <td>0</td>\n",
       "      <td>Passing Too Closely</td>\n",
       "      <td>4184637</td>\n",
       "      <td>Sedan</td>\n",
       "    </tr>\n",
       "    <tr>\n",
       "      <th>1</th>\n",
       "      <td>2019-08-27 16:02:00</td>\n",
       "      <td>1</td>\n",
       "      <td>8</td>\n",
       "      <td>BROOKLYN</td>\n",
       "      <td>0</td>\n",
       "      <td>0.0</td>\n",
       "      <td>0</td>\n",
       "      <td>0</td>\n",
       "      <td>0</td>\n",
       "      <td>0</td>\n",
       "      <td>0</td>\n",
       "      <td>0</td>\n",
       "      <td>Passing Too Closely</td>\n",
       "      <td>4195773</td>\n",
       "      <td>Station Wagon/Sport Utility Vehicle</td>\n",
       "    </tr>\n",
       "    <tr>\n",
       "      <th>2</th>\n",
       "      <td>2019-08-15 17:57:00</td>\n",
       "      <td>3</td>\n",
       "      <td>8</td>\n",
       "      <td>MANHATTAN</td>\n",
       "      <td>1</td>\n",
       "      <td>0.0</td>\n",
       "      <td>0</td>\n",
       "      <td>0</td>\n",
       "      <td>0</td>\n",
       "      <td>0</td>\n",
       "      <td>1</td>\n",
       "      <td>0</td>\n",
       "      <td>Driver Inattention/Distraction</td>\n",
       "      <td>4202457</td>\n",
       "      <td>Sedan</td>\n",
       "    </tr>\n",
       "    <tr>\n",
       "      <th>3</th>\n",
       "      <td>2019-08-30 21:53:00</td>\n",
       "      <td>4</td>\n",
       "      <td>8</td>\n",
       "      <td>BRONX</td>\n",
       "      <td>0</td>\n",
       "      <td>0.0</td>\n",
       "      <td>0</td>\n",
       "      <td>0</td>\n",
       "      <td>0</td>\n",
       "      <td>0</td>\n",
       "      <td>0</td>\n",
       "      <td>0</td>\n",
       "      <td>Unspecified</td>\n",
       "      <td>4198749</td>\n",
       "      <td>Taxi</td>\n",
       "    </tr>\n",
       "    <tr>\n",
       "      <th>4</th>\n",
       "      <td>2019-08-06 09:45:00</td>\n",
       "      <td>1</td>\n",
       "      <td>8</td>\n",
       "      <td>MANHATTAN</td>\n",
       "      <td>2</td>\n",
       "      <td>0.0</td>\n",
       "      <td>0</td>\n",
       "      <td>0</td>\n",
       "      <td>1</td>\n",
       "      <td>0</td>\n",
       "      <td>0</td>\n",
       "      <td>0</td>\n",
       "      <td>Driver Inattention/Distraction</td>\n",
       "      <td>4183798</td>\n",
       "      <td>Station Wagon/Sport Utility Vehicle</td>\n",
       "    </tr>\n",
       "  </tbody>\n",
       "</table>\n",
       "</div>"
      ],
      "text/plain": [
       "  ACCIDENT DATE AND TIME  WEEKDAY  MONTH    BOROUGH  NUMBER OF PERSONS INJURED  NUMBER OF PERSONS KILLED  NUMBER OF PEDESTRIANS INJURED  NUMBER OF PEDESTRIANS KILLED  NUMBER OF CYCLIST INJURED  NUMBER OF CYCLIST KILLED  NUMBER OF MOTORIST INJURED  NUMBER OF MOTORIST KILLED   CONTRIBUTING FACTOR VEHICLE 1  COLLISION_ID                  VEHICLE TYPE CODE 1\n",
       "0    2019-08-05 16:30:00        0      8     QUEENS                          0                       0.0                              0                             0                          0                         0                           0                          0             Passing Too Closely       4184637                                Sedan\n",
       "1    2019-08-27 16:02:00        1      8   BROOKLYN                          0                       0.0                              0                             0                          0                         0                           0                          0             Passing Too Closely       4195773  Station Wagon/Sport Utility Vehicle\n",
       "2    2019-08-15 17:57:00        3      8  MANHATTAN                          1                       0.0                              0                             0                          0                         0                           1                          0  Driver Inattention/Distraction       4202457                                Sedan\n",
       "3    2019-08-30 21:53:00        4      8      BRONX                          0                       0.0                              0                             0                          0                         0                           0                          0                     Unspecified       4198749                                 Taxi\n",
       "4    2019-08-06 09:45:00        1      8  MANHATTAN                          2                       0.0                              0                             0                          1                         0                           0                          0  Driver Inattention/Distraction       4183798  Station Wagon/Sport Utility Vehicle"
      ]
     },
     "execution_count": 15,
     "metadata": {},
     "output_type": "execute_result"
    }
   ],
   "source": [
    "df.head(5)"
   ]
  },
  {
   "cell_type": "markdown",
   "id": "6c89df5f",
   "metadata": {},
   "source": [
    "# Prezentacja danych"
   ]
  },
  {
   "cell_type": "markdown",
   "id": "556408d9",
   "metadata": {},
   "source": [
    "## 20 najczęstszych przyczyn wypadków:"
   ]
  },
  {
   "cell_type": "code",
   "execution_count": 16,
   "id": "eb6c60d1",
   "metadata": {},
   "outputs": [
    {
     "data": {
      "text/html": [
       "<div>\n",
       "<style scoped>\n",
       "    .dataframe tbody tr th:only-of-type {\n",
       "        vertical-align: middle;\n",
       "    }\n",
       "\n",
       "    .dataframe tbody tr th {\n",
       "        vertical-align: top;\n",
       "    }\n",
       "\n",
       "    .dataframe thead th {\n",
       "        text-align: right;\n",
       "    }\n",
       "</style>\n",
       "<table border=\"1\" class=\"dataframe\">\n",
       "  <thead>\n",
       "    <tr style=\"text-align: right;\">\n",
       "      <th></th>\n",
       "      <th>Contributing Factor</th>\n",
       "      <th>Sum of accidents</th>\n",
       "    </tr>\n",
       "  </thead>\n",
       "  <tbody>\n",
       "    <tr>\n",
       "      <th>1</th>\n",
       "      <td>Driver Inattention/Distraction</td>\n",
       "      <td>229284</td>\n",
       "    </tr>\n",
       "    <tr>\n",
       "      <th>2</th>\n",
       "      <td>Failure to Yield Right-of-Way</td>\n",
       "      <td>69519</td>\n",
       "    </tr>\n",
       "    <tr>\n",
       "      <th>3</th>\n",
       "      <td>Following Too Closely</td>\n",
       "      <td>61925</td>\n",
       "    </tr>\n",
       "    <tr>\n",
       "      <th>4</th>\n",
       "      <td>Backing Unsafely</td>\n",
       "      <td>46737</td>\n",
       "    </tr>\n",
       "    <tr>\n",
       "      <th>5</th>\n",
       "      <td>Other Vehicular</td>\n",
       "      <td>38707</td>\n",
       "    </tr>\n",
       "    <tr>\n",
       "      <th>6</th>\n",
       "      <td>Fatigued/Drowsy</td>\n",
       "      <td>35092</td>\n",
       "    </tr>\n",
       "    <tr>\n",
       "      <th>7</th>\n",
       "      <td>Turning Improperly</td>\n",
       "      <td>31253</td>\n",
       "    </tr>\n",
       "    <tr>\n",
       "      <th>8</th>\n",
       "      <td>Passing or Lane Usage Improper</td>\n",
       "      <td>29485</td>\n",
       "    </tr>\n",
       "    <tr>\n",
       "      <th>9</th>\n",
       "      <td>Passing Too Closely</td>\n",
       "      <td>26929</td>\n",
       "    </tr>\n",
       "    <tr>\n",
       "      <th>10</th>\n",
       "      <td>Unsafe Lane Changing</td>\n",
       "      <td>23758</td>\n",
       "    </tr>\n",
       "    <tr>\n",
       "      <th>11</th>\n",
       "      <td>Traffic Control Disregarded</td>\n",
       "      <td>18524</td>\n",
       "    </tr>\n",
       "    <tr>\n",
       "      <th>12</th>\n",
       "      <td>Driver Inexperience</td>\n",
       "      <td>17773</td>\n",
       "    </tr>\n",
       "    <tr>\n",
       "      <th>13</th>\n",
       "      <td>Lost Consciousness</td>\n",
       "      <td>14521</td>\n",
       "    </tr>\n",
       "    <tr>\n",
       "      <th>14</th>\n",
       "      <td>Alcohol Involvement</td>\n",
       "      <td>11591</td>\n",
       "    </tr>\n",
       "    <tr>\n",
       "      <th>15</th>\n",
       "      <td>Prescription Medication</td>\n",
       "      <td>11347</td>\n",
       "    </tr>\n",
       "    <tr>\n",
       "      <th>16</th>\n",
       "      <td>Pavement Slippery</td>\n",
       "      <td>11030</td>\n",
       "    </tr>\n",
       "    <tr>\n",
       "      <th>17</th>\n",
       "      <td>Reaction to Uninvolved Vehicle</td>\n",
       "      <td>10664</td>\n",
       "    </tr>\n",
       "    <tr>\n",
       "      <th>18</th>\n",
       "      <td>Unsafe Speed</td>\n",
       "      <td>10337</td>\n",
       "    </tr>\n",
       "    <tr>\n",
       "      <th>19</th>\n",
       "      <td>Outside Car Distraction</td>\n",
       "      <td>8801</td>\n",
       "    </tr>\n",
       "    <tr>\n",
       "      <th>20</th>\n",
       "      <td>Oversized Vehicle</td>\n",
       "      <td>7897</td>\n",
       "    </tr>\n",
       "  </tbody>\n",
       "</table>\n",
       "</div>"
      ],
      "text/plain": [
       "               Contributing Factor  Sum of accidents\n",
       "1   Driver Inattention/Distraction            229284\n",
       "2    Failure to Yield Right-of-Way             69519\n",
       "3            Following Too Closely             61925\n",
       "4                 Backing Unsafely             46737\n",
       "5                  Other Vehicular             38707\n",
       "6                  Fatigued/Drowsy             35092\n",
       "7               Turning Improperly             31253\n",
       "8   Passing or Lane Usage Improper             29485\n",
       "9              Passing Too Closely             26929\n",
       "10            Unsafe Lane Changing             23758\n",
       "11     Traffic Control Disregarded             18524\n",
       "12             Driver Inexperience             17773\n",
       "13              Lost Consciousness             14521\n",
       "14             Alcohol Involvement             11591\n",
       "15         Prescription Medication             11347\n",
       "16               Pavement Slippery             11030\n",
       "17  Reaction to Uninvolved Vehicle             10664\n",
       "18                    Unsafe Speed             10337\n",
       "19         Outside Car Distraction              8801\n",
       "20               Oversized Vehicle              7897"
      ]
     },
     "execution_count": 16,
     "metadata": {},
     "output_type": "execute_result"
    }
   ],
   "source": [
    "def df_with_top_x_factors(column_with_factors: str = 'CONTRIBUTING FACTOR VEHICLE 1',\n",
    "                          rows_to_show=20,\n",
    "                          data: pd.DataFrame = df) -> pd.DataFrame:\n",
    "    factors_sum = data[column_with_factors].value_counts()\n",
    "    factors_sum = pd.DataFrame(factors_sum)\n",
    "    factors_sum.reset_index(inplace=True)\n",
    "    factors_without_unspecified = factors_sum.drop(0)\n",
    "    factors_without_unspecified.rename(columns={'index': 'Contributing Factor',\n",
    "                                                'CONTRIBUTING FACTOR VEHICLE 1': 'Sum of accidents'},inplace=True)\n",
    "    return factors_without_unspecified.head(rows_to_show)\n",
    "\n",
    "\n",
    "df_with_top_x_factors()"
   ]
  },
  {
   "cell_type": "markdown",
   "id": "f3607fea",
   "metadata": {},
   "source": [
    "## 10 typów pojazdów najczęściej biorących udział w wypadkach:"
   ]
  },
  {
   "cell_type": "code",
   "execution_count": 17,
   "id": "09fdabfc",
   "metadata": {},
   "outputs": [
    {
     "data": {
      "text/html": [
       "<div>\n",
       "<style scoped>\n",
       "    .dataframe tbody tr th:only-of-type {\n",
       "        vertical-align: middle;\n",
       "    }\n",
       "\n",
       "    .dataframe tbody tr th {\n",
       "        vertical-align: top;\n",
       "    }\n",
       "\n",
       "    .dataframe thead th {\n",
       "        text-align: right;\n",
       "    }\n",
       "</style>\n",
       "<table border=\"1\" class=\"dataframe\">\n",
       "  <thead>\n",
       "    <tr style=\"text-align: right;\">\n",
       "      <th></th>\n",
       "      <th>Vehicle Type:</th>\n",
       "      <th>Sum of accidents:</th>\n",
       "    </tr>\n",
       "  </thead>\n",
       "  <tbody>\n",
       "    <tr>\n",
       "      <th>1</th>\n",
       "      <td>PASSENGER VEHICLE</td>\n",
       "      <td>524930</td>\n",
       "    </tr>\n",
       "    <tr>\n",
       "      <th>2</th>\n",
       "      <td>SPORT UTILITY / STATION WAGON</td>\n",
       "      <td>237777</td>\n",
       "    </tr>\n",
       "    <tr>\n",
       "      <th>3</th>\n",
       "      <td>Sedan</td>\n",
       "      <td>126814</td>\n",
       "    </tr>\n",
       "    <tr>\n",
       "      <th>4</th>\n",
       "      <td>Station Wagon/Sport Utility Vehicle</td>\n",
       "      <td>103094</td>\n",
       "    </tr>\n",
       "    <tr>\n",
       "      <th>5</th>\n",
       "      <td>TAXI</td>\n",
       "      <td>38511</td>\n",
       "    </tr>\n",
       "    <tr>\n",
       "      <th>6</th>\n",
       "      <td>VAN</td>\n",
       "      <td>19251</td>\n",
       "    </tr>\n",
       "    <tr>\n",
       "      <th>7</th>\n",
       "      <td>PICK-UP TRUCK</td>\n",
       "      <td>17539</td>\n",
       "    </tr>\n",
       "    <tr>\n",
       "      <th>8</th>\n",
       "      <td>OTHER</td>\n",
       "      <td>17401</td>\n",
       "    </tr>\n",
       "    <tr>\n",
       "      <th>9</th>\n",
       "      <td>UNKNOWN</td>\n",
       "      <td>14714</td>\n",
       "    </tr>\n",
       "    <tr>\n",
       "      <th>10</th>\n",
       "      <td>Taxi</td>\n",
       "      <td>13155</td>\n",
       "    </tr>\n",
       "  </tbody>\n",
       "</table>\n",
       "</div>"
      ],
      "text/plain": [
       "                          Vehicle Type:  Sum of accidents:\n",
       "1                     PASSENGER VEHICLE             524930\n",
       "2         SPORT UTILITY / STATION WAGON             237777\n",
       "3                                 Sedan             126814\n",
       "4   Station Wagon/Sport Utility Vehicle             103094\n",
       "5                                  TAXI              38511\n",
       "6                                   VAN              19251\n",
       "7                         PICK-UP TRUCK              17539\n",
       "8                                 OTHER              17401\n",
       "9                               UNKNOWN              14714\n",
       "10                                 Taxi              13155"
      ]
     },
     "execution_count": 17,
     "metadata": {},
     "output_type": "execute_result"
    }
   ],
   "source": [
    "def df_with_top_x_vehicles(column_with_vehicle_type: str = 'VEHICLE TYPE CODE 1',\n",
    "                           rows_to_show=20,\n",
    "                           data: pd.DataFrame = df) -> pd.DataFrame:\n",
    "    cars_sum = data[column_with_vehicle_type].value_counts()\n",
    "    cars_sum = pd.DataFrame(cars_sum)\n",
    "    cars_sum.reset_index(inplace=True)\n",
    "    cars_sum.rename(columns={'index': 'Vehicle Type:',\n",
    "                             'VEHICLE TYPE CODE 1': 'Sum of accidents:'}, inplace=True)\n",
    "    cars_sum.index += 1\n",
    "    return cars_sum.head(rows_to_show)\n",
    "\n",
    "\n",
    "df_with_top_x_vehicles(rows_to_show=10)"
   ]
  },
  {
   "cell_type": "markdown",
   "id": "98ce2788",
   "metadata": {},
   "source": [
    "## Dane poszczególnych dzielnic"
   ]
  },
  {
   "cell_type": "code",
   "execution_count": 18,
   "id": "619e3cc8",
   "metadata": {
    "scrolled": false
   },
   "outputs": [
    {
     "data": {
      "text/html": [
       "<div>\n",
       "<style scoped>\n",
       "    .dataframe tbody tr th:only-of-type {\n",
       "        vertical-align: middle;\n",
       "    }\n",
       "\n",
       "    .dataframe tbody tr th {\n",
       "        vertical-align: top;\n",
       "    }\n",
       "\n",
       "    .dataframe thead th {\n",
       "        text-align: right;\n",
       "    }\n",
       "</style>\n",
       "<table border=\"1\" class=\"dataframe\">\n",
       "  <thead>\n",
       "    <tr style=\"text-align: right;\">\n",
       "      <th></th>\n",
       "      <th>All Accidents:</th>\n",
       "      <th>Accidents with injured:</th>\n",
       "      <th>Sum of injured:</th>\n",
       "      <th>Most injured in 1 accident:</th>\n",
       "      <th>Sum of killed:</th>\n",
       "      <th>Most killed in 1 accident:</th>\n",
       "    </tr>\n",
       "  </thead>\n",
       "  <tbody>\n",
       "    <tr>\n",
       "      <th>BRONX</th>\n",
       "      <td>117947</td>\n",
       "      <td>23.44%</td>\n",
       "      <td>27651</td>\n",
       "      <td>31</td>\n",
       "      <td>120.0</td>\n",
       "      <td>2.0</td>\n",
       "    </tr>\n",
       "    <tr>\n",
       "      <th>BROOKLYN</th>\n",
       "      <td>261780</td>\n",
       "      <td>25.7%</td>\n",
       "      <td>67284</td>\n",
       "      <td>24</td>\n",
       "      <td>292.0</td>\n",
       "      <td>3.0</td>\n",
       "    </tr>\n",
       "    <tr>\n",
       "      <th>MANHATTAN</th>\n",
       "      <td>201735</td>\n",
       "      <td>14.52%</td>\n",
       "      <td>29288</td>\n",
       "      <td>17</td>\n",
       "      <td>171.0</td>\n",
       "      <td>8.0</td>\n",
       "    </tr>\n",
       "    <tr>\n",
       "      <th>QUEENS</th>\n",
       "      <td>224619</td>\n",
       "      <td>22.94%</td>\n",
       "      <td>51530</td>\n",
       "      <td>16</td>\n",
       "      <td>275.0</td>\n",
       "      <td>5.0</td>\n",
       "    </tr>\n",
       "    <tr>\n",
       "      <th>STATEN ISLAND</th>\n",
       "      <td>36592</td>\n",
       "      <td>22.0%</td>\n",
       "      <td>8050</td>\n",
       "      <td>17</td>\n",
       "      <td>52.0</td>\n",
       "      <td>2.0</td>\n",
       "    </tr>\n",
       "  </tbody>\n",
       "</table>\n",
       "</div>"
      ],
      "text/plain": [
       "               All Accidents: Accidents with injured:  Sum of injured:  Most injured in 1 accident:  Sum of killed:  Most killed in 1 accident:\n",
       "BRONX                  117947                  23.44%            27651                           31           120.0                         2.0\n",
       "BROOKLYN               261780                   25.7%            67284                           24           292.0                         3.0\n",
       "MANHATTAN              201735                  14.52%            29288                           17           171.0                         8.0\n",
       "QUEENS                 224619                  22.94%            51530                           16           275.0                         5.0\n",
       "STATEN ISLAND           36592                   22.0%             8050                           17            52.0                         2.0"
      ]
     },
     "execution_count": 18,
     "metadata": {},
     "output_type": "execute_result"
    }
   ],
   "source": [
    "def df_with_borough_split(borough_column_name: str = 'BOROUGH',\n",
    "                          killed_sum_column_name: str = 'NUMBER OF PERSONS KILLED',\n",
    "                          injured_sum_column_name: str = 'NUMBER OF PERSONS INJURED',\n",
    "                          value_to_drop: str = 'Missing BOROUGH',\n",
    "                          data: pd.DataFrame = df) -> pd.DataFrame:\n",
    "    df_borough_accidents_sum = data[borough_column_name].value_counts()\n",
    "    df_borough_accidents_sum.rename(\"All Accidents:\",inplace=True)\n",
    "    \n",
    "    df_killed_grouped = data.groupby(borough_column_name).agg({killed_sum_column_name: ['sum', 'max']})\n",
    "    df_killed_grouped.columns = ['Sum of killed:', 'Most killed in 1 accident:']\n",
    "    \n",
    "    df_injured_grouped = data.groupby(borough_column_name).agg({injured_sum_column_name: ['sum', 'max']})\n",
    "    df_injured_grouped.columns = ['Sum of injured:', 'Most injured in 1 accident:']\n",
    "    \n",
    "    merged_borough_df = df_injured_grouped.merge(df_killed_grouped,\n",
    "                                                 left_on=borough_column_name,\n",
    "                                                 right_on= borough_column_name)    \n",
    "    merged_borough_df = merged_borough_df.merge(df_borough_accidents_sum,\n",
    "                                               left_index=True,\n",
    "                                               right_index=True)        \n",
    "    merged_borough_df['Accidents with injured:'] = (merged_borough_df['Sum of injured:'] \n",
    "                                                   / merged_borough_df['All Accidents:']) * 100\n",
    "    merged_borough_df['Accidents with injured:'] = merged_borough_df['Accidents with injured:'].round(decimals = 2)\n",
    "    merged_borough_df['Accidents with injured:'] = merged_borough_df['Accidents with injured:'].astype(str) + '%'\n",
    "    \n",
    "    merged_borough_df.drop(value_to_drop, inplace=True)\n",
    "    merged_borough_df = merged_borough_df[['All Accidents:', 'Accidents with injured:','Sum of injured:', 'Most injured in 1 accident:',\n",
    "                                           'Sum of killed:', 'Most killed in 1 accident:']]\n",
    "\n",
    "    return merged_borough_df\n",
    "    \n",
    "df_with_borough_split()\n",
    "\n"
   ]
  },
  {
   "cell_type": "code",
   "execution_count": 19,
   "id": "eb9207c8",
   "metadata": {},
   "outputs": [
    {
     "name": "stdout",
     "output_type": "stream",
     "text": [
      "Największa liczba wypadków miała miejsce w dzielnicy Brooklyn.\n",
      "W co 4 wypadku w tej dzielnicy są jacyś ranni.\n"
     ]
    }
   ],
   "source": [
    "print('Największa liczba wypadków miała miejsce w dzielnicy Brooklyn.\\nW co 4 wypadku w tej dzielnicy są jacyś ranni.')"
   ]
  },
  {
   "cell_type": "markdown",
   "id": "53a89c1c",
   "metadata": {},
   "source": [
    "## Liczba rannych w ujęciu miesięcznym:"
   ]
  },
  {
   "cell_type": "code",
   "execution_count": 20,
   "id": "2af57a4f",
   "metadata": {},
   "outputs": [],
   "source": [
    "def comment_about_injured_for_bar_plot(injured_in_accident_column_name: str = 'NUMBER OF PERSONS INJURED',\n",
    "                                       data: pd.DataFrame = df) -> pd.DataFrame:\n",
    "    count_of_accidents_with_injured = len(data[data[injured_in_accident_column_name] > 0])\n",
    "    count_of_all_accidents = len(data[injured_in_accident_column_name])\n",
    "    sum_of_all_injured = data[injured_in_accident_column_name].sum()\n",
    "    injured_percentage = (count_of_accidents_with_injured / count_of_all_accidents) * 100\n",
    "    print(\n",
    "        f'W {count_of_accidents_with_injured} wypadkach (z całkowitej liczby {count_of_all_accidents}) byli jacyś ranni.'\n",
    "        f'\\nStanowi to {round(injured_percentage, 2)}% wypadków.\\n'\n",
    "        f'W sumie było {sum_of_all_injured} rannych.')"
   ]
  },
  {
   "cell_type": "code",
   "execution_count": 21,
   "id": "638a7db4",
   "metadata": {},
   "outputs": [
    {
     "name": "stdout",
     "output_type": "stream",
     "text": [
      "Liczba wypadków z osobami rannymi w ujęciu miesięcznym:\n"
     ]
    },
    {
     "data": {
      "image/png": "[encoded data removed]",
      "text/plain": [
       "<Figure size 432x288 with 1 Axes>"
      ]
     },
     "metadata": {
      "needs_background": "light"
     },
     "output_type": "display_data"
    },
    {
     "name": "stdout",
     "output_type": "stream",
     "text": [
      "W 176907 wypadkach (z całkowitej liczby 1211802) byli jacyś ranni.\n",
      "Stanowi to 14.6% wypadków.\n",
      "W sumie było 283788 rannych.\n"
     ]
    }
   ],
   "source": [
    "def injured_in_month_pltbar_with_comment(months_column_name: str = 'MONTH',\n",
    "                                         injured_in_accident_column_name: str = 'NUMBER OF PERSONS INJURED',\n",
    "                                         data: pd.DataFrame = df) -> plt.bar:\n",
    "    months = data[months_column_name].unique()\n",
    "    months = sorted(months)\n",
    "    injured_grouped_by_month = data.groupby([months_column_name]).sum()[injured_in_accident_column_name]\n",
    "\n",
    "    plt.bar(months, injured_grouped_by_month)\n",
    "    plt.xticks(months)\n",
    "    plt.grid()\n",
    "    plt.ylabel('Injured')\n",
    "    plt.xlabel('Month number')\n",
    "\n",
    "    print('Liczba wypadków z osobami rannymi w ujęciu miesięcznym:')\n",
    "    plt.show()\n",
    "    comment_about_injured_for_bar_plot()\n",
    "    \n",
    "\n",
    "injured_in_month_pltbar_with_comment()"
   ]
  },
  {
   "cell_type": "markdown",
   "id": "486c4840",
   "metadata": {},
   "source": [
    " ## Śmiertelność w ujęciu miesięcznym:"
   ]
  },
  {
   "cell_type": "code",
   "execution_count": 22,
   "id": "0662472e",
   "metadata": {},
   "outputs": [],
   "source": [
    "def comment_about_killed_for_bar_plot(killed_in_accident_column_name: str = 'NUMBER OF PERSONS KILLED',\n",
    "                                      data: pd.DataFrame = df) -> pd.DataFrame:\n",
    "    count_of_accidents_with_killed = len(data[data[killed_in_accident_column_name] > 0])\n",
    "    count_of_all_accidents = len(data[killed_in_accident_column_name])\n",
    "    sum_of_all_killed = data[killed_in_accident_column_name].sum().astype('int')\n",
    "    killed_percentage = (count_of_accidents_with_killed / count_of_all_accidents) * 100\n",
    "    print(\n",
    "        f'W {count_of_accidents_with_killed} wypadkach (z całkowitej liczby {count_of_all_accidents}) były ofiary śmiertelne.\\n'\n",
    "        f'Stanowi to {round(killed_percentage, 2)}%.\\n'\n",
    "        f'W sumie było {sum_of_all_killed} ofiar śmiertelnych.')"
   ]
  },
  {
   "cell_type": "code",
   "execution_count": 23,
   "id": "aebb4e70",
   "metadata": {},
   "outputs": [
    {
     "name": "stdout",
     "output_type": "stream",
     "text": [
      "Ilość śmiertelnych wypdaków w ujęciu miesięcznym:\n"
     ]
    },
    {
     "data": {
      "image/png": "[encoded data removed]",
      "text/plain": [
       "<Figure size 432x288 with 1 Axes>"
      ]
     },
     "metadata": {
      "needs_background": "light"
     },
     "output_type": "display_data"
    },
    {
     "name": "stdout",
     "output_type": "stream",
     "text": [
      "W 1336 wypadkach (z całkowitej liczby 1211802) były ofiary śmiertelne.\n",
      "Stanowi to 0.11%.\n",
      "W sumie było 1394 ofiar śmiertelnych.\n"
     ]
    }
   ],
   "source": [
    "def killed_in_month_pltbar_with_comment(months_column_name: str = 'MONTH',\n",
    "                                        killed_in_accident_column_name: str = 'NUMBER OF PERSONS KILLED',\n",
    "                                        data: pd.DataFrame = df) -> plt.bar:\n",
    "    months = data[months_column_name].unique()\n",
    "    months = sorted(months)\n",
    "    killed_grouped_by_month = data.groupby([months_column_name]).sum()[killed_in_accident_column_name]\n",
    "\n",
    "    plt.bar(months, killed_grouped_by_month)\n",
    "    plt.xticks(months)\n",
    "    plt.grid()\n",
    "    plt.ylabel('Killed')\n",
    "    plt.xlabel('Month number')\n",
    "\n",
    "    print('Ilość śmiertelnych wypdaków w ujęciu miesięcznym:')\n",
    "    plt.show()\n",
    "    comment_about_killed_for_bar_plot()\n",
    "\n",
    "\n",
    "killed_in_month_pltbar_with_comment()"
   ]
  },
  {
   "cell_type": "markdown",
   "id": "fcc0c310",
   "metadata": {},
   "source": [
    "## Zestawienie procentowe rannych w ujęciu miesięcznym: "
   ]
  },
  {
   "cell_type": "code",
   "execution_count": 24,
   "id": "0d3b6fa8",
   "metadata": {},
   "outputs": [
    {
     "name": "stdout",
     "output_type": "stream",
     "text": [
      "Całkowita liczba rannych: 283788\n",
      "Rozkład procentowy w ujęciu miesięcznym:\n"
     ]
    },
    {
     "data": {
      "image/png": "[encoded data removed]",
      "text/plain": [
       "<Figure size 432x288 with 1 Axes>"
      ]
     },
     "metadata": {},
     "output_type": "display_data"
    },
    {
     "name": "stdout",
     "output_type": "stream",
     "text": [
      "Powyższe dane wskazują wzrost liczby wypadków (oraz rannych i zmarłym w wypadkach) przypadający na Lipiec oraz Sierpień.\n",
      "Może to być spowodowane szczytem sezonu turystycznego/wakacyjnego.\n"
     ]
    }
   ],
   "source": [
    "def monthly_injured_distribution(months_column_name: str = 'MONTH',\n",
    "                                injured_in_accident_column_name: str = 'NUMBER OF PERSONS INJURED',\n",
    "                                data: pd.DataFrame = df) ->plt.pie:\n",
    "    months = ['Jan.', 'Feb.', 'Mar.', 'Apr.', 'May', 'June', 'July', 'Aug.', 'Sept.', 'Oct.', 'Nov.', 'Dec.']\n",
    "    injured_grouped_by_month = data.groupby([months_column_name]).sum()[injured_in_accident_column_name]\n",
    "    explode = [0.2, 0.2, 0.2, 0.2, 0.2, 0.2, 0.4, 0.4, 0.2, 0.2, 0.2, 0.2]\n",
    "    plt.pie(injured_grouped_by_month,\n",
    "            labels=months,\n",
    "            explode=explode,\n",
    "            autopct=\"%0.2f%%\",\n",
    "            shadow=True,\n",
    "            radius=2,\n",
    "            startangle=90,\n",
    "            textprops={\"fontsize\": 13},\n",
    "            wedgeprops={\"linewidth\": 2, 'width': 1.9, \"edgecolor\": \"k\"},\n",
    "            counterclock=False, )\n",
    "\n",
    "    # show + komentarz\n",
    "    print(f'Całkowita liczba rannych: {data[injured_in_accident_column_name].sum()}')\n",
    "    print(\"Rozkład procentowy w ujęciu miesięcznym:\")\n",
    "    plt.show()\n",
    "    print('Powyższe dane wskazują wzrost liczby wypadków (oraz rannych i zmarłym w wypadkach) przypadający na Lipiec oraz Sierpień.'\n",
    "          '\\nMoże to być spowodowane szczytem sezonu turystycznego/wakacyjnego.')\n",
    "\n",
    "monthly_injured_distribution()"
   ]
  },
  {
   "cell_type": "markdown",
   "id": "9d607c5c",
   "metadata": {},
   "source": [
    "## Dobowy rozkład wypadków:"
   ]
  },
  {
   "cell_type": "code",
   "execution_count": 25,
   "id": "29c6274f",
   "metadata": {
    "scrolled": false
   },
   "outputs": [
    {
     "name": "stdout",
     "output_type": "stream",
     "text": [
      "Rozkład dobowy wypadków:\n"
     ]
    },
    {
     "data": {
      "image/png": "[encoded data removed]",
      "text/plain": [
       "<Figure size 432x288 with 1 Axes>"
      ]
     },
     "metadata": {
      "needs_background": "light"
     },
     "output_type": "display_data"
    },
    {
     "name": "stdout",
     "output_type": "stream",
     "text": [
      "Powyższe dane wskazuja, że liczba wypadków znacząco wzrasta wraz z rozpoczęciem standardowych godzin pracy - 8:00,\n",
      "osiągając maksimum przy godzinach szczytu związanych z koniecem pracy - 16:00.\n"
     ]
    }
   ],
   "source": [
    "def hourly_distribution_of_accidents(date_time_column_name: str = 'ACCIDENT DATE AND TIME',\n",
    "                                     data: pd.DataFrame = df) -> plt.grid:\n",
    "    accident_time = data[date_time_column_name].dt.hour\n",
    "\n",
    "    plt.plot(range(0, 24), accident_time.value_counts(sort=False, ascending=True, ).sort_index())\n",
    "    plt.xticks(range(0, 24))\n",
    "    plt.grid()\n",
    "\n",
    "    print('Rozkład dobowy wypadków:')\n",
    "    plt.show()\n",
    "    print('Powyższe dane wskazuja, że liczba wypadków znacząco wzrasta wraz z rozpoczęciem standardowych godzin pracy - 8:00,\\n' \n",
    "          'osiągając maksimum przy godzinach szczytu związanych z koniecem pracy - 16:00.')\n",
    "\n",
    "\n",
    "hourly_distribution_of_accidents()"
   ]
  }
 ],
 "metadata": {
  "kernelspec": {
   "display_name": "Python 3 (ipykernel)",
   "language": "python",
   "name": "python3"
  },
  "language_info": {
   "codemirror_mode": {
    "name": "ipython",
    "version": 3
   },
   "file_extension": ".py",
   "mimetype": "text/x-python",
   "name": "python",
   "nbconvert_exporter": "python",
   "pygments_lexer": "ipython3",
   "version": "3.9.7"
  }
 },
 "nbformat": 4,
 "nbformat_minor": 5
}
