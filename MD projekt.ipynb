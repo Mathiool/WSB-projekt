{
 "cells": [
  {
   "cell_type": "markdown",
   "id": "78785746",
   "metadata": {},
   "source": [
    "# Biblioteki + ustawienia:"
   ]
  },
  {
   "cell_type": "code",
   "execution_count": 1,
   "id": "06c1fcc4",
   "metadata": {},
   "outputs": [],
   "source": [
    "import pandas as pd\n",
    "import matplotlib.pyplot as plt\n",
    "\n",
    "pd.set_option('display.max_rows',50)\n",
    "pd.set_option('display.max_columns',50)"
   ]
  },
  {
   "cell_type": "markdown",
   "id": "f6ef9ac4",
   "metadata": {},
   "source": [
    "# Wgranie danych:"
   ]
  },
  {
   "cell_type": "code",
   "execution_count": 2,
   "id": "e5651d4f",
   "metadata": {
    "scrolled": true
   },
   "outputs": [],
   "source": [
    "file = '../Python_cwiczenia/nypd-motor-vehicle-collisions.csv'\n",
    "#kolumny:\n",
    "cols=['ACCIDENT DATE', 'ACCIDENT TIME', 'BOROUGH','ON STREET NAME',\n",
    "       'NUMBER OF PERSONS INJURED', 'NUMBER OF PERSONS KILLED',\n",
    "       'NUMBER OF PEDESTRIANS INJURED', 'NUMBER OF PEDESTRIANS KILLED',\n",
    "       'NUMBER OF CYCLIST INJURED', 'NUMBER OF CYCLIST KILLED',\n",
    "       'NUMBER OF MOTORIST INJURED', 'NUMBER OF MOTORIST KILLED',\n",
    "       'CONTRIBUTING FACTOR VEHICLE 1',\n",
    "       'COLLISION_ID', 'VEHICLE TYPE CODE 1']\n",
    "df = pd.read_csv(file,usecols=cols)"
   ]
  },
  {
   "cell_type": "markdown",
   "id": "6d744db2",
   "metadata": {},
   "source": [
    "# Wstępne przejrzenie danych:"
   ]
  },
  {
   "cell_type": "code",
   "execution_count": 3,
   "id": "45a14ce1",
   "metadata": {
    "scrolled": false
   },
   "outputs": [
    {
     "name": "stdout",
     "output_type": "stream",
     "text": [
      "<class 'pandas.core.frame.DataFrame'>\n",
      "RangeIndex: 1612178 entries, 0 to 1612177\n",
      "Data columns (total 15 columns):\n",
      " #   Column                         Non-Null Count    Dtype  \n",
      "---  ------                         --------------    -----  \n",
      " 0   ACCIDENT DATE                  1612178 non-null  object \n",
      " 1   ACCIDENT TIME                  1612178 non-null  object \n",
      " 2   BOROUGH                        1127553 non-null  object \n",
      " 3   ON STREET NAME                 1298002 non-null  object \n",
      " 4   NUMBER OF PERSONS INJURED      1612161 non-null  float64\n",
      " 5   NUMBER OF PERSONS KILLED       1612145 non-null  float64\n",
      " 6   NUMBER OF PEDESTRIANS INJURED  1612178 non-null  int64  \n",
      " 7   NUMBER OF PEDESTRIANS KILLED   1612178 non-null  int64  \n",
      " 8   NUMBER OF CYCLIST INJURED      1612178 non-null  int64  \n",
      " 9   NUMBER OF CYCLIST KILLED       1612178 non-null  int64  \n",
      " 10  NUMBER OF MOTORIST INJURED     1612178 non-null  int64  \n",
      " 11  NUMBER OF MOTORIST KILLED      1612178 non-null  int64  \n",
      " 12  CONTRIBUTING FACTOR VEHICLE 1  1607854 non-null  object \n",
      " 13  COLLISION_ID                   1612178 non-null  int64  \n",
      " 14  VEHICLE TYPE CODE 1            1606597 non-null  object \n",
      "dtypes: float64(2), int64(7), object(6)\n",
      "memory usage: 184.5+ MB\n"
     ]
    }
   ],
   "source": [
    "df.info()"
   ]
  },
  {
   "cell_type": "code",
   "execution_count": 4,
   "id": "5ad2a3a6",
   "metadata": {
    "scrolled": false
   },
   "outputs": [
    {
     "data": {
      "text/html": [
       "<div>\n",
       "<style scoped>\n",
       "    .dataframe tbody tr th:only-of-type {\n",
       "        vertical-align: middle;\n",
       "    }\n",
       "\n",
       "    .dataframe tbody tr th {\n",
       "        vertical-align: top;\n",
       "    }\n",
       "\n",
       "    .dataframe thead th {\n",
       "        text-align: right;\n",
       "    }\n",
       "</style>\n",
       "<table border=\"1\" class=\"dataframe\">\n",
       "  <thead>\n",
       "    <tr style=\"text-align: right;\">\n",
       "      <th></th>\n",
       "      <th>ACCIDENT DATE</th>\n",
       "      <th>ACCIDENT TIME</th>\n",
       "      <th>BOROUGH</th>\n",
       "      <th>ON STREET NAME</th>\n",
       "      <th>NUMBER OF PERSONS INJURED</th>\n",
       "      <th>NUMBER OF PERSONS KILLED</th>\n",
       "      <th>NUMBER OF PEDESTRIANS INJURED</th>\n",
       "      <th>NUMBER OF PEDESTRIANS KILLED</th>\n",
       "      <th>NUMBER OF CYCLIST INJURED</th>\n",
       "      <th>NUMBER OF CYCLIST KILLED</th>\n",
       "      <th>NUMBER OF MOTORIST INJURED</th>\n",
       "      <th>NUMBER OF MOTORIST KILLED</th>\n",
       "      <th>CONTRIBUTING FACTOR VEHICLE 1</th>\n",
       "      <th>COLLISION_ID</th>\n",
       "      <th>VEHICLE TYPE CODE 1</th>\n",
       "    </tr>\n",
       "  </thead>\n",
       "  <tbody>\n",
       "    <tr>\n",
       "      <th>0</th>\n",
       "      <td>2019-08-05T00:00:00.000</td>\n",
       "      <td>16:30</td>\n",
       "      <td>QUEENS</td>\n",
       "      <td>NaN</td>\n",
       "      <td>0.0</td>\n",
       "      <td>0.0</td>\n",
       "      <td>0</td>\n",
       "      <td>0</td>\n",
       "      <td>0</td>\n",
       "      <td>0</td>\n",
       "      <td>0</td>\n",
       "      <td>0</td>\n",
       "      <td>Passing Too Closely</td>\n",
       "      <td>4184637</td>\n",
       "      <td>Sedan</td>\n",
       "    </tr>\n",
       "    <tr>\n",
       "      <th>1</th>\n",
       "      <td>2019-08-27T00:00:00.000</td>\n",
       "      <td>16:02</td>\n",
       "      <td>BROOKLYN</td>\n",
       "      <td>NaN</td>\n",
       "      <td>0.0</td>\n",
       "      <td>0.0</td>\n",
       "      <td>0</td>\n",
       "      <td>0</td>\n",
       "      <td>0</td>\n",
       "      <td>0</td>\n",
       "      <td>0</td>\n",
       "      <td>0</td>\n",
       "      <td>Passing Too Closely</td>\n",
       "      <td>4195773</td>\n",
       "      <td>Station Wagon/Sport Utility Vehicle</td>\n",
       "    </tr>\n",
       "    <tr>\n",
       "      <th>2</th>\n",
       "      <td>2019-08-15T00:00:00.000</td>\n",
       "      <td>17:57</td>\n",
       "      <td>MANHATTAN</td>\n",
       "      <td>CHRYSTIE STREET</td>\n",
       "      <td>1.0</td>\n",
       "      <td>0.0</td>\n",
       "      <td>0</td>\n",
       "      <td>0</td>\n",
       "      <td>0</td>\n",
       "      <td>0</td>\n",
       "      <td>1</td>\n",
       "      <td>0</td>\n",
       "      <td>Driver Inattention/Distraction</td>\n",
       "      <td>4202457</td>\n",
       "      <td>Sedan</td>\n",
       "    </tr>\n",
       "    <tr>\n",
       "      <th>3</th>\n",
       "      <td>2019-08-30T00:00:00.000</td>\n",
       "      <td>21:53</td>\n",
       "      <td>BRONX</td>\n",
       "      <td>NaN</td>\n",
       "      <td>0.0</td>\n",
       "      <td>0.0</td>\n",
       "      <td>0</td>\n",
       "      <td>0</td>\n",
       "      <td>0</td>\n",
       "      <td>0</td>\n",
       "      <td>0</td>\n",
       "      <td>0</td>\n",
       "      <td>Unspecified</td>\n",
       "      <td>4198749</td>\n",
       "      <td>Taxi</td>\n",
       "    </tr>\n",
       "    <tr>\n",
       "      <th>4</th>\n",
       "      <td>2019-08-06T00:00:00.000</td>\n",
       "      <td>9:45</td>\n",
       "      <td>MANHATTAN</td>\n",
       "      <td>EAST 35 STREET</td>\n",
       "      <td>1.0</td>\n",
       "      <td>0.0</td>\n",
       "      <td>0</td>\n",
       "      <td>0</td>\n",
       "      <td>1</td>\n",
       "      <td>0</td>\n",
       "      <td>0</td>\n",
       "      <td>0</td>\n",
       "      <td>Driver Inattention/Distraction</td>\n",
       "      <td>4183798</td>\n",
       "      <td>Station Wagon/Sport Utility Vehicle</td>\n",
       "    </tr>\n",
       "  </tbody>\n",
       "</table>\n",
       "</div>"
      ],
      "text/plain": [
       "             ACCIDENT DATE ACCIDENT TIME    BOROUGH  \\\n",
       "0  2019-08-05T00:00:00.000         16:30     QUEENS   \n",
       "1  2019-08-27T00:00:00.000         16:02   BROOKLYN   \n",
       "2  2019-08-15T00:00:00.000         17:57  MANHATTAN   \n",
       "3  2019-08-30T00:00:00.000         21:53      BRONX   \n",
       "4  2019-08-06T00:00:00.000          9:45  MANHATTAN   \n",
       "\n",
       "                     ON STREET NAME  NUMBER OF PERSONS INJURED  \\\n",
       "0                               NaN                        0.0   \n",
       "1                               NaN                        0.0   \n",
       "2  CHRYSTIE STREET                                         1.0   \n",
       "3                               NaN                        0.0   \n",
       "4  EAST 35 STREET                                          1.0   \n",
       "\n",
       "   NUMBER OF PERSONS KILLED  NUMBER OF PEDESTRIANS INJURED  \\\n",
       "0                       0.0                              0   \n",
       "1                       0.0                              0   \n",
       "2                       0.0                              0   \n",
       "3                       0.0                              0   \n",
       "4                       0.0                              0   \n",
       "\n",
       "   NUMBER OF PEDESTRIANS KILLED  NUMBER OF CYCLIST INJURED  \\\n",
       "0                             0                          0   \n",
       "1                             0                          0   \n",
       "2                             0                          0   \n",
       "3                             0                          0   \n",
       "4                             0                          1   \n",
       "\n",
       "   NUMBER OF CYCLIST KILLED  NUMBER OF MOTORIST INJURED  \\\n",
       "0                         0                           0   \n",
       "1                         0                           0   \n",
       "2                         0                           1   \n",
       "3                         0                           0   \n",
       "4                         0                           0   \n",
       "\n",
       "   NUMBER OF MOTORIST KILLED   CONTRIBUTING FACTOR VEHICLE 1  COLLISION_ID  \\\n",
       "0                          0             Passing Too Closely       4184637   \n",
       "1                          0             Passing Too Closely       4195773   \n",
       "2                          0  Driver Inattention/Distraction       4202457   \n",
       "3                          0                     Unspecified       4198749   \n",
       "4                          0  Driver Inattention/Distraction       4183798   \n",
       "\n",
       "                   VEHICLE TYPE CODE 1  \n",
       "0                                Sedan  \n",
       "1  Station Wagon/Sport Utility Vehicle  \n",
       "2                                Sedan  \n",
       "3                                 Taxi  \n",
       "4  Station Wagon/Sport Utility Vehicle  "
      ]
     },
     "execution_count": 4,
     "metadata": {},
     "output_type": "execute_result"
    }
   ],
   "source": [
    "df.head()"
   ]
  },
  {
   "cell_type": "markdown",
   "id": "d964cbe8",
   "metadata": {},
   "source": [
    "# Modyfikacje danych"
   ]
  },
  {
   "cell_type": "markdown",
   "id": "c08c4970",
   "metadata": {},
   "source": [
    "## dodanie kolumny DateTime:"
   ]
  },
  {
   "cell_type": "code",
   "execution_count": 5,
   "id": "de055ef4",
   "metadata": {},
   "outputs": [
    {
     "name": "stdout",
     "output_type": "stream",
     "text": [
      "Dodano kolumnę \"ACCIDENT DATE AND TIME\".\n"
     ]
    }
   ],
   "source": [
    "def date_time_col():\n",
    "    if 'ACCIDENT DATE' in df.columns:\n",
    "        df['ACCIDENT DATE'] = df['ACCIDENT DATE'].apply(lambda x: x.split('T')[0])\n",
    "        #Zmiana Dtype na Datetime dla daty i godziny:\n",
    "        df['ACCIDENT DATE'] = df['ACCIDENT DATE']+df['ACCIDENT TIME']\n",
    "        df['ACCIDENT DATE'] = pd.to_datetime(df['ACCIDENT DATE'],format='%Y-%m-%d%H:%M')\n",
    "        #Zmiana nazwy kolumnyt ACCIDENT DATE:\n",
    "        df.rename(columns={'ACCIDENT DATE':'ACCIDENT DATE AND TIME'}, inplace = True)\n",
    "        print(f'Dodano kolumnę \"ACCIDENT DATE AND TIME\".')\n",
    "    else:\n",
    "        print('Już było robione')\n",
    "        \n",
    "date_time_col()"
   ]
  },
  {
   "cell_type": "markdown",
   "id": "c948866b",
   "metadata": {},
   "source": [
    "## Dodanie dnia tygodnia i miesiąca"
   ]
  },
  {
   "cell_type": "code",
   "execution_count": 6,
   "id": "ff64c60c",
   "metadata": {},
   "outputs": [
    {
     "name": "stdout",
     "output_type": "stream",
     "text": [
      "Dodano kolumnę \"WEEKDAY\"\n",
      "Dodano kolumnę \"MONTH\"\n"
     ]
    }
   ],
   "source": [
    "def weekday_month_cols():\n",
    "    #dzień tygodnia\n",
    "    if 'WEEKDAY' in df.columns:\n",
    "        print('Kolumna \"WEEKDAY\" już istnieje')\n",
    "    else:\n",
    "        df.rename(columns={'ACCIDENT TIME':'WEEKDAY'}, inplace = True)\n",
    "        df['WEEKDAY'] = df['ACCIDENT DATE AND TIME'].dt.dayofweek\n",
    "        df['WEEKDAY'] = df['WEEKDAY'].map({0:'Monday',1:'Tuesday', 2:'Wednesday', 3:'Thursday', 4:'Friday', 5:'Saturday',6:'Sunday'})\n",
    "        print('Dodano kolumnę \"WEEKDAY\"')\n",
    "\n",
    "    # miesiąc\n",
    "    if 'MONTH' in df.columns:\n",
    "        print('Kolumna \"MONTH\" już istnieje')\n",
    "    else:\n",
    "        month = df['ACCIDENT DATE AND TIME'].dt.month\n",
    "        df.insert(2, 'MONTH', month)\n",
    "        print('Dodano kolumnę \"MONTH\"')\n",
    "    \n",
    "weekday_month_cols()    "
   ]
  },
  {
   "cell_type": "markdown",
   "id": "6d4bc0a0",
   "metadata": {},
   "source": [
    "## Usunięcie duplikatów"
   ]
  },
  {
   "cell_type": "code",
   "execution_count": 7,
   "id": "90c78e73",
   "metadata": {},
   "outputs": [
    {
     "name": "stdout",
     "output_type": "stream",
     "text": [
      "Usunięto duplikaty.\n"
     ]
    }
   ],
   "source": [
    "def drop_duplicates():\n",
    "    #Usunięcie duplikatów całych wierszy:\n",
    "    df.drop_duplicates(inplace=True)\n",
    "    # Usunięcie duplikatów po Collision ID:\n",
    "    df.drop_duplicates(subset = 'COLLISION_ID',inplace=True)\n",
    "    print('Usunięto duplikaty.')\n",
    "drop_duplicates()"
   ]
  },
  {
   "cell_type": "markdown",
   "id": "3ceb1f63",
   "metadata": {},
   "source": [
    "## Usunięcie NaN:"
   ]
  },
  {
   "cell_type": "code",
   "execution_count": 8,
   "id": "9621f314",
   "metadata": {},
   "outputs": [],
   "source": [
    "# Zmiana NaN w tekstowych na missing\n",
    "def change_nan():\n",
    "    df['BOROUGH'] = df['BOROUGH'].fillna('Missing BOROUGH')\n",
    "    df['ON STREET NAME'] = df['ON STREET NAME'].fillna('Missing')\n",
    "change_nan()"
   ]
  },
  {
   "cell_type": "markdown",
   "id": "c0220403",
   "metadata": {},
   "source": [
    "## Sprzawdzenie czy sumy rannych i zabitych się zgadzają:"
   ]
  },
  {
   "cell_type": "code",
   "execution_count": 9,
   "id": "eecbdac8",
   "metadata": {
    "scrolled": true
   },
   "outputs": [
    {
     "name": "stdout",
     "output_type": "stream",
     "text": [
      "Poprawiono\n"
     ]
    }
   ],
   "source": [
    "#sprawdzenie rannych:\n",
    "def validate_injured():\n",
    "    #sprawdzenie czy się zgadzajć\n",
    "    injured_compare = df[(df['NUMBER OF PERSONS INJURED'] == df['NUMBER OF PEDESTRIANS INJURED'] + df['NUMBER OF CYCLIST INJURED'] + df['NUMBER OF MOTORIST INJURED'])==False]\n",
    "    if len(injured_compare) == 0:\n",
    "        print('Jest OK!')\n",
    "    else:\n",
    "        #poprawka:\n",
    "        a = df['NUMBER OF PEDESTRIANS INJURED'] + df['NUMBER OF CYCLIST INJURED'] + df['NUMBER OF MOTORIST INJURED']\n",
    "        df['NUMBER OF PERSONS INJURED'] = a\n",
    "        print('Poprawiono')\n",
    "validate_injured()"
   ]
  },
  {
   "cell_type": "code",
   "execution_count": 10,
   "id": "b4c3bd8b",
   "metadata": {
    "scrolled": true
   },
   "outputs": [
    {
     "name": "stdout",
     "output_type": "stream",
     "text": [
      "Poprawiono\n"
     ]
    }
   ],
   "source": [
    "#sprawdzenie zabitych:\n",
    "def validate_killed():\n",
    "    killed_compare = df[(df['NUMBER OF PERSONS KILLED'] == df['NUMBER OF PEDESTRIANS KILLED'] + df['NUMBER OF CYCLIST KILLED'] + df['NUMBER OF MOTORIST KILLED'])==False]\n",
    "    if len(killed_compare) == 0:\n",
    "        print('Jest OK!')\n",
    "    else:\n",
    "        df['NUMBER OF PERSONS KILLED'] = df['NUMBER OF PEDESTRIANS KILLED'] + df['NUMBER OF CYCLIST KILLED'] + df['NUMBER OF MOTORIST KILLED']\n",
    "        print('Poprawiono')\n",
    "validate_killed()"
   ]
  },
  {
   "cell_type": "markdown",
   "id": "a51fab99",
   "metadata": {},
   "source": [
    "# Prezentacja danych"
   ]
  },
  {
   "cell_type": "markdown",
   "id": "0c125478",
   "metadata": {},
   "source": [
    "## Tabele:"
   ]
  },
  {
   "cell_type": "markdown",
   "id": "2c2a3738",
   "metadata": {},
   "source": [
    "### Tabela z sumą i maksymalną wartością ranny i zabitych, z podziałem na dzielice"
   ]
  },
  {
   "cell_type": "code",
   "execution_count": 11,
   "id": "c6040760",
   "metadata": {
    "scrolled": true
   },
   "outputs": [
    {
     "data": {
      "text/html": [
       "<div>\n",
       "<style scoped>\n",
       "    .dataframe tbody tr th:only-of-type {\n",
       "        vertical-align: middle;\n",
       "    }\n",
       "\n",
       "    .dataframe tbody tr th {\n",
       "        vertical-align: top;\n",
       "    }\n",
       "\n",
       "    .dataframe thead th {\n",
       "        text-align: right;\n",
       "    }\n",
       "</style>\n",
       "<table border=\"1\" class=\"dataframe\">\n",
       "  <thead>\n",
       "    <tr style=\"text-align: right;\">\n",
       "      <th></th>\n",
       "      <th>Sum of injured:</th>\n",
       "      <th>Most injured in 1 accident:</th>\n",
       "      <th>Sum of killed:</th>\n",
       "      <th>Most killed in 1 accident:</th>\n",
       "    </tr>\n",
       "    <tr>\n",
       "      <th>BOROUGH</th>\n",
       "      <th></th>\n",
       "      <th></th>\n",
       "      <th></th>\n",
       "      <th></th>\n",
       "    </tr>\n",
       "  </thead>\n",
       "  <tbody>\n",
       "    <tr>\n",
       "      <th>BRONX</th>\n",
       "      <td>33842</td>\n",
       "      <td>31</td>\n",
       "      <td>123</td>\n",
       "      <td>2</td>\n",
       "    </tr>\n",
       "    <tr>\n",
       "      <th>BROOKLYN</th>\n",
       "      <td>76384</td>\n",
       "      <td>24</td>\n",
       "      <td>294</td>\n",
       "      <td>3</td>\n",
       "    </tr>\n",
       "    <tr>\n",
       "      <th>MANHATTAN</th>\n",
       "      <td>35432</td>\n",
       "      <td>27</td>\n",
       "      <td>173</td>\n",
       "      <td>8</td>\n",
       "    </tr>\n",
       "    <tr>\n",
       "      <th>QUEENS</th>\n",
       "      <td>59363</td>\n",
       "      <td>16</td>\n",
       "      <td>277</td>\n",
       "      <td>5</td>\n",
       "    </tr>\n",
       "    <tr>\n",
       "      <th>STATEN ISLAND</th>\n",
       "      <td>9206</td>\n",
       "      <td>17</td>\n",
       "      <td>52</td>\n",
       "      <td>2</td>\n",
       "    </tr>\n",
       "  </tbody>\n",
       "</table>\n",
       "</div>"
      ],
      "text/plain": [
       "               Sum of injured:  Most injured in 1 accident:  Sum of killed:  \\\n",
       "BOROUGH                                                                       \n",
       "BRONX                    33842                           31             123   \n",
       "BROOKLYN                 76384                           24             294   \n",
       "MANHATTAN                35432                           27             173   \n",
       "QUEENS                   59363                           16             277   \n",
       "STATEN ISLAND             9206                           17              52   \n",
       "\n",
       "               Most killed in 1 accident:  \n",
       "BOROUGH                                    \n",
       "BRONX                                   2  \n",
       "BROOKLYN                                3  \n",
       "MANHATTAN                               8  \n",
       "QUEENS                                  5  \n",
       "STATEN ISLAND                           2  "
      ]
     },
     "execution_count": 11,
     "metadata": {},
     "output_type": "execute_result"
    }
   ],
   "source": [
    "def min_max_borough():\n",
    "    #agg dla zabitych + zmiana nazw kolumn:\n",
    "    killed = df.groupby('BOROUGH').agg({'NUMBER OF PERSONS KILLED':['sum', 'max']})\n",
    "    killed.columns = ['Sum of killed:','Most killed in 1 accident:']\n",
    "    #agg dla rannych + zmiana nazw kolumn:\n",
    "    injured = df.groupby('BOROUGH').agg({'NUMBER OF PERSONS INJURED':['sum', 'max']})\n",
    "    injured.columns = ['Sum of injured:','Most injured in 1 accident:']\n",
    "    #łączenie tabel:\n",
    "    merged_df = injured.merge(killed, left_on='BOROUGH', right_on='BOROUGH')\n",
    "    merged_df.drop('Missing BOROUGH',inplace=True)\n",
    "    \n",
    "    return merged_df\n",
    "min_max_borough()"
   ]
  },
  {
   "cell_type": "markdown",
   "id": "e50887b0",
   "metadata": {},
   "source": [
    "### Top 20 przyczyn wypadków:\n"
   ]
  },
  {
   "cell_type": "code",
   "execution_count": 12,
   "id": "e2dbc336",
   "metadata": {},
   "outputs": [
    {
     "data": {
      "text/html": [
       "<div>\n",
       "<style scoped>\n",
       "    .dataframe tbody tr th:only-of-type {\n",
       "        vertical-align: middle;\n",
       "    }\n",
       "\n",
       "    .dataframe tbody tr th {\n",
       "        vertical-align: top;\n",
       "    }\n",
       "\n",
       "    .dataframe thead th {\n",
       "        text-align: right;\n",
       "    }\n",
       "</style>\n",
       "<table border=\"1\" class=\"dataframe\">\n",
       "  <thead>\n",
       "    <tr style=\"text-align: right;\">\n",
       "      <th></th>\n",
       "      <th>Contributing Factor</th>\n",
       "      <th>Sum of accidents</th>\n",
       "    </tr>\n",
       "  </thead>\n",
       "  <tbody>\n",
       "    <tr>\n",
       "      <th>1</th>\n",
       "      <td>Driver Inattention/Distraction</td>\n",
       "      <td>229923</td>\n",
       "    </tr>\n",
       "    <tr>\n",
       "      <th>2</th>\n",
       "      <td>Failure to Yield Right-of-Way</td>\n",
       "      <td>70014</td>\n",
       "    </tr>\n",
       "    <tr>\n",
       "      <th>3</th>\n",
       "      <td>Following Too Closely</td>\n",
       "      <td>61938</td>\n",
       "    </tr>\n",
       "    <tr>\n",
       "      <th>4</th>\n",
       "      <td>Backing Unsafely</td>\n",
       "      <td>46924</td>\n",
       "    </tr>\n",
       "    <tr>\n",
       "      <th>5</th>\n",
       "      <td>Other Vehicular</td>\n",
       "      <td>38751</td>\n",
       "    </tr>\n",
       "    <tr>\n",
       "      <th>6</th>\n",
       "      <td>Fatigued/Drowsy</td>\n",
       "      <td>35101</td>\n",
       "    </tr>\n",
       "    <tr>\n",
       "      <th>7</th>\n",
       "      <td>Turning Improperly</td>\n",
       "      <td>31294</td>\n",
       "    </tr>\n",
       "    <tr>\n",
       "      <th>8</th>\n",
       "      <td>Passing or Lane Usage Improper</td>\n",
       "      <td>29505</td>\n",
       "    </tr>\n",
       "    <tr>\n",
       "      <th>9</th>\n",
       "      <td>Passing Too Closely</td>\n",
       "      <td>26985</td>\n",
       "    </tr>\n",
       "    <tr>\n",
       "      <th>10</th>\n",
       "      <td>Unsafe Lane Changing</td>\n",
       "      <td>23763</td>\n",
       "    </tr>\n",
       "    <tr>\n",
       "      <th>11</th>\n",
       "      <td>Traffic Control Disregarded</td>\n",
       "      <td>18600</td>\n",
       "    </tr>\n",
       "    <tr>\n",
       "      <th>12</th>\n",
       "      <td>Driver Inexperience</td>\n",
       "      <td>17797</td>\n",
       "    </tr>\n",
       "    <tr>\n",
       "      <th>13</th>\n",
       "      <td>Lost Consciousness</td>\n",
       "      <td>14528</td>\n",
       "    </tr>\n",
       "    <tr>\n",
       "      <th>14</th>\n",
       "      <td>Alcohol Involvement</td>\n",
       "      <td>11608</td>\n",
       "    </tr>\n",
       "    <tr>\n",
       "      <th>15</th>\n",
       "      <td>Prescription Medication</td>\n",
       "      <td>11351</td>\n",
       "    </tr>\n",
       "    <tr>\n",
       "      <th>16</th>\n",
       "      <td>Pavement Slippery</td>\n",
       "      <td>11035</td>\n",
       "    </tr>\n",
       "    <tr>\n",
       "      <th>17</th>\n",
       "      <td>Reaction to Uninvolved Vehicle</td>\n",
       "      <td>10667</td>\n",
       "    </tr>\n",
       "    <tr>\n",
       "      <th>18</th>\n",
       "      <td>Unsafe Speed</td>\n",
       "      <td>10404</td>\n",
       "    </tr>\n",
       "    <tr>\n",
       "      <th>19</th>\n",
       "      <td>Outside Car Distraction</td>\n",
       "      <td>8806</td>\n",
       "    </tr>\n",
       "    <tr>\n",
       "      <th>20</th>\n",
       "      <td>Oversized Vehicle</td>\n",
       "      <td>7922</td>\n",
       "    </tr>\n",
       "  </tbody>\n",
       "</table>\n",
       "</div>"
      ],
      "text/plain": [
       "               Contributing Factor  Sum of accidents\n",
       "1   Driver Inattention/Distraction            229923\n",
       "2    Failure to Yield Right-of-Way             70014\n",
       "3            Following Too Closely             61938\n",
       "4                 Backing Unsafely             46924\n",
       "5                  Other Vehicular             38751\n",
       "6                  Fatigued/Drowsy             35101\n",
       "7               Turning Improperly             31294\n",
       "8   Passing or Lane Usage Improper             29505\n",
       "9              Passing Too Closely             26985\n",
       "10            Unsafe Lane Changing             23763\n",
       "11     Traffic Control Disregarded             18600\n",
       "12             Driver Inexperience             17797\n",
       "13              Lost Consciousness             14528\n",
       "14             Alcohol Involvement             11608\n",
       "15         Prescription Medication             11351\n",
       "16               Pavement Slippery             11035\n",
       "17  Reaction to Uninvolved Vehicle             10667\n",
       "18                    Unsafe Speed             10404\n",
       "19         Outside Car Distraction              8806\n",
       "20               Oversized Vehicle              7922"
      ]
     },
     "execution_count": 12,
     "metadata": {},
     "output_type": "execute_result"
    }
   ],
   "source": [
    "def top20_factors():\n",
    "    factor_sum = df['CONTRIBUTING FACTOR VEHICLE 1'].value_counts()\n",
    "    factor_sum = pd.DataFrame(factor_sum)\n",
    "    factor_sum.reset_index(inplace=True) \n",
    "    #usunięcie Unspecified:\n",
    "    factor_sum.drop(0,inplace=True) \n",
    "    #zmiana nazw kolumn:\n",
    "    factor_sum = factor_sum.rename(columns = {'index':'Contributing Factor','CONTRIBUTING FACTOR VEHICLE 1':'Sum of accidents'})\n",
    "    \n",
    "    return factor_sum.head(20)\n",
    "top20_factors()"
   ]
  },
  {
   "cell_type": "markdown",
   "id": "e3780e2e",
   "metadata": {},
   "source": [
    "### Top 20 typów pojazdów biorącyh udział w wypadkach:\n"
   ]
  },
  {
   "cell_type": "code",
   "execution_count": 13,
   "id": "76176ee9",
   "metadata": {},
   "outputs": [
    {
     "data": {
      "text/html": [
       "<div>\n",
       "<style scoped>\n",
       "    .dataframe tbody tr th:only-of-type {\n",
       "        vertical-align: middle;\n",
       "    }\n",
       "\n",
       "    .dataframe tbody tr th {\n",
       "        vertical-align: top;\n",
       "    }\n",
       "\n",
       "    .dataframe thead th {\n",
       "        text-align: right;\n",
       "    }\n",
       "</style>\n",
       "<table border=\"1\" class=\"dataframe\">\n",
       "  <thead>\n",
       "    <tr style=\"text-align: right;\">\n",
       "      <th></th>\n",
       "      <th>Car Type</th>\n",
       "      <th>Sum of accidents</th>\n",
       "    </tr>\n",
       "  </thead>\n",
       "  <tbody>\n",
       "    <tr>\n",
       "      <th>1</th>\n",
       "      <td>PASSENGER VEHICLE</td>\n",
       "      <td>525698</td>\n",
       "    </tr>\n",
       "    <tr>\n",
       "      <th>2</th>\n",
       "      <td>SPORT UTILITY / STATION WAGON</td>\n",
       "      <td>238078</td>\n",
       "    </tr>\n",
       "    <tr>\n",
       "      <th>3</th>\n",
       "      <td>Sedan</td>\n",
       "      <td>126952</td>\n",
       "    </tr>\n",
       "    <tr>\n",
       "      <th>4</th>\n",
       "      <td>Station Wagon/Sport Utility Vehicle</td>\n",
       "      <td>103168</td>\n",
       "    </tr>\n",
       "    <tr>\n",
       "      <th>5</th>\n",
       "      <td>TAXI</td>\n",
       "      <td>38592</td>\n",
       "    </tr>\n",
       "    <tr>\n",
       "      <th>6</th>\n",
       "      <td>VAN</td>\n",
       "      <td>19314</td>\n",
       "    </tr>\n",
       "    <tr>\n",
       "      <th>7</th>\n",
       "      <td>PICK-UP TRUCK</td>\n",
       "      <td>17569</td>\n",
       "    </tr>\n",
       "    <tr>\n",
       "      <th>8</th>\n",
       "      <td>OTHER</td>\n",
       "      <td>17478</td>\n",
       "    </tr>\n",
       "    <tr>\n",
       "      <th>9</th>\n",
       "      <td>UNKNOWN</td>\n",
       "      <td>14738</td>\n",
       "    </tr>\n",
       "    <tr>\n",
       "      <th>10</th>\n",
       "      <td>Taxi</td>\n",
       "      <td>13172</td>\n",
       "    </tr>\n",
       "    <tr>\n",
       "      <th>11</th>\n",
       "      <td>SMALL COM VEH(4 TIRES)</td>\n",
       "      <td>10607</td>\n",
       "    </tr>\n",
       "    <tr>\n",
       "      <th>12</th>\n",
       "      <td>LARGE COM VEH(6 OR MORE TIRES)</td>\n",
       "      <td>10600</td>\n",
       "    </tr>\n",
       "    <tr>\n",
       "      <th>13</th>\n",
       "      <td>BUS</td>\n",
       "      <td>10227</td>\n",
       "    </tr>\n",
       "    <tr>\n",
       "      <th>14</th>\n",
       "      <td>Pick-up Truck</td>\n",
       "      <td>8498</td>\n",
       "    </tr>\n",
       "    <tr>\n",
       "      <th>15</th>\n",
       "      <td>LIVERY VEHICLE</td>\n",
       "      <td>7888</td>\n",
       "    </tr>\n",
       "    <tr>\n",
       "      <th>16</th>\n",
       "      <td>Box Truck</td>\n",
       "      <td>6589</td>\n",
       "    </tr>\n",
       "    <tr>\n",
       "      <th>17</th>\n",
       "      <td>Bus</td>\n",
       "      <td>5451</td>\n",
       "    </tr>\n",
       "    <tr>\n",
       "      <th>18</th>\n",
       "      <td>MOTORCYCLE</td>\n",
       "      <td>4896</td>\n",
       "    </tr>\n",
       "    <tr>\n",
       "      <th>19</th>\n",
       "      <td>BICYCLE</td>\n",
       "      <td>3912</td>\n",
       "    </tr>\n",
       "    <tr>\n",
       "      <th>20</th>\n",
       "      <td>Bike</td>\n",
       "      <td>3028</td>\n",
       "    </tr>\n",
       "  </tbody>\n",
       "</table>\n",
       "</div>"
      ],
      "text/plain": [
       "                               Car Type  Sum of accidents\n",
       "1                     PASSENGER VEHICLE            525698\n",
       "2         SPORT UTILITY / STATION WAGON            238078\n",
       "3                                 Sedan            126952\n",
       "4   Station Wagon/Sport Utility Vehicle            103168\n",
       "5                                  TAXI             38592\n",
       "6                                   VAN             19314\n",
       "7                         PICK-UP TRUCK             17569\n",
       "8                                 OTHER             17478\n",
       "9                               UNKNOWN             14738\n",
       "10                                 Taxi             13172\n",
       "11              SMALL COM VEH(4 TIRES)              10607\n",
       "12       LARGE COM VEH(6 OR MORE TIRES)             10600\n",
       "13                                  BUS             10227\n",
       "14                        Pick-up Truck              8498\n",
       "15                       LIVERY VEHICLE              7888\n",
       "16                            Box Truck              6589\n",
       "17                                  Bus              5451\n",
       "18                           MOTORCYCLE              4896\n",
       "19                              BICYCLE              3912\n",
       "20                                 Bike              3028"
      ]
     },
     "execution_count": 13,
     "metadata": {},
     "output_type": "execute_result"
    }
   ],
   "source": [
    "def top20_cars():\n",
    "    car_sum = df['VEHICLE TYPE CODE 1'].value_counts()\n",
    "    car_sum = pd.DataFrame(car_sum)\n",
    "    car_sum.reset_index(inplace=True)\n",
    "    #zmiana nazw kolumn:\n",
    "    car_sum = car_sum.rename(columns = {'index':'Car Type','VEHICLE TYPE CODE 1':'Sum of accidents'})\n",
    "    #przesunięcie indexu:\n",
    "    car_sum.index += 1 \n",
    "    \n",
    "    return car_sum.head(20)\n",
    "top20_cars()"
   ]
  },
  {
   "cell_type": "markdown",
   "id": "a5c33908",
   "metadata": {},
   "source": [
    "---"
   ]
  },
  {
   "cell_type": "markdown",
   "id": "50c33f91",
   "metadata": {},
   "source": [
    "## Wykresy słupkowe:"
   ]
  },
  {
   "cell_type": "markdown",
   "id": "f7b9bc97",
   "metadata": {},
   "source": [
    "### ## Wykres słupkowy pokazujący rannych w danym miesiącu::"
   ]
  },
  {
   "cell_type": "code",
   "execution_count": 14,
   "id": "14988c1f",
   "metadata": {},
   "outputs": [],
   "source": [
    "#funkcja z komentarzem do wykresu o rannych:\n",
    "def percent_of_injur():\n",
    "    count_injur_accidents = len(df[df['NUMBER OF PERSONS INJURED']>0])\n",
    "    all_accidents = len(df['NUMBER OF PERSONS INJURED'])\n",
    "    injured_sum = df['NUMBER OF PERSONS INJURED'].sum()\n",
    "    injured_percent = (injured_sum / len(df)) *100\n",
    "    \n",
    "    #komentarz:\n",
    "    print(f'W {count_injur_accidents} wypadkach (z całkowitej liczby {all_accidents}) byli jacyś ranni.'\n",
    "          f'\\nStanowi to {round(injured_percent,2)}% wypadków.\\n'\n",
    "          f'W sumie było {injured_sum} rannych.')"
   ]
  },
  {
   "cell_type": "code",
   "execution_count": 15,
   "id": "fbd95c87",
   "metadata": {
    "scrolled": false
   },
   "outputs": [
    {
     "name": "stdout",
     "output_type": "stream",
     "text": [
      "Liczba wypadków z osobami rannymi w ujęciu miesięcznym:\n"
     ]
    },
    {
     "data": {
      "image/png": "[encoded data removed]",
      "text/plain": [
       "<Figure size 432x288 with 1 Axes>"
      ]
     },
     "metadata": {
      "needs_background": "light"
     },
     "output_type": "display_data"
    },
    {
     "name": "stdout",
     "output_type": "stream",
     "text": [
      "W 235309 wypadkach (z całkowitej liczby 1217957) byli jacyś ranni.\n",
      "Stanowi to 26.32% wypadków.\n",
      "W sumie było 320619 rannych.\n"
     ]
    }
   ],
   "source": [
    "# Wykres słupkowy z rannymi w danym miesiącu\n",
    "def injured_bar():\n",
    "    #data:\n",
    "    months = range(1,13)\n",
    "    injur_months = df.groupby(['MONTH']).sum()['NUMBER OF PERSONS INJURED']\n",
    "    \n",
    "    #wykres:\n",
    "    plt.bar(months, injur_months)\n",
    "    plt.xticks(months)\n",
    "    plt.grid()\n",
    "    plt.ylabel('Injured')\n",
    "    plt.xlabel('Month number')\n",
    "    \n",
    "    #show + komentarz:\n",
    "    print('Liczba wypadków z osobami rannymi w ujęciu miesięcznym:')\n",
    "    plt.show()\n",
    "    percent_of_injur()\n",
    "    \n",
    "injured_bar()"
   ]
  },
  {
   "cell_type": "markdown",
   "id": "bd404622",
   "metadata": {},
   "source": [
    "## Wykres słupkowy pokazujący śmiertelność w danym miesiącu:"
   ]
  },
  {
   "cell_type": "code",
   "execution_count": 16,
   "id": "b912e1d9",
   "metadata": {},
   "outputs": [],
   "source": [
    "#funkcja z komentarzem do wykresu o śmiertelności:\n",
    "def percent_of_dead():\n",
    "    count_deadly_accidents = len(df[df['NUMBER OF PERSONS KILLED']>0])\n",
    "    all_accidents = len(df['NUMBER OF PERSONS KILLED'])\n",
    "    dead_sum = df['NUMBER OF PERSONS KILLED'].sum()\n",
    "    dead_percent = (dead_sum / len(df) )*100\n",
    "    \n",
    "    #komentarz:\n",
    "    print(f'W {count_deadly_accidents} wypadkach (z całkowitej liczby {all_accidents}) były ofiary śmiertelne.\\nStanowi to {round(dead_percent,2)}%.\\n'\n",
    "          f'W sumie było {dead_sum} ofiar śmiertelnych.')"
   ]
  },
  {
   "cell_type": "code",
   "execution_count": 17,
   "id": "e84fdf76",
   "metadata": {},
   "outputs": [
    {
     "name": "stdout",
     "output_type": "stream",
     "text": [
      "Ilość śmiertelnych wypdaków w ujęciu miesięcznym:\n"
     ]
    },
    {
     "data": {
      "image/png": "[encoded data removed]",
      "text/plain": [
       "<Figure size 432x288 with 1 Axes>"
      ]
     },
     "metadata": {
      "needs_background": "light"
     },
     "output_type": "display_data"
    },
    {
     "name": "stdout",
     "output_type": "stream",
     "text": [
      "W 1359 wypadkach (z całkowitej liczby 1217957) były ofiary śmiertelne.\n",
      "Stanowi to 0.12%.\n",
      "W sumie było 1416 ofiar śmiertelnych.\n"
     ]
    }
   ],
   "source": [
    "# Wykres słupkowy z wypadkami śmiertelnymi w danym miesiącu\n",
    "def killed_bar():\n",
    "    #data:\n",
    "    months = range(1,13)\n",
    "    killed_per_month = df.groupby(['MONTH']).sum()['NUMBER OF PERSONS KILLED']\n",
    "\n",
    "    #wykres:\n",
    "    plt.bar(months, killed_per_month)\n",
    "    plt.xticks(months)\n",
    "    plt.grid()\n",
    "    plt.ylabel('Killed')\n",
    "    plt.xlabel('Month number')\n",
    "\n",
    "    #show + komentarz:\n",
    "    print('Ilość śmiertelnych wypdaków w ujęciu miesięcznym:')\n",
    "    plt.show()\n",
    "    percent_of_dead()\n",
    "killed_bar()"
   ]
  },
  {
   "cell_type": "markdown",
   "id": "b3efd33c",
   "metadata": {},
   "source": [
    "## Wykresy kołowe:"
   ]
  },
  {
   "cell_type": "markdown",
   "id": "2bfe0234",
   "metadata": {},
   "source": [
    "### Wykres kołowy pokazujący ile procent rannych przypada na dany miesiąc:"
   ]
  },
  {
   "cell_type": "code",
   "execution_count": 18,
   "id": "e5b81a82",
   "metadata": {
    "scrolled": false
   },
   "outputs": [
    {
     "name": "stdout",
     "output_type": "stream",
     "text": [
      "Całkowita liczba rannych: 320619\n",
      "Rozkład procentowy w ujęciu miesięcznym:\n"
     ]
    },
    {
     "data": {
      "image/png": "[encoded data removed]",
      "text/plain": [
       "<Figure size 432x288 with 1 Axes>"
      ]
     },
     "metadata": {},
     "output_type": "display_data"
    }
   ],
   "source": [
    "def plotpie_months():\n",
    "    #data\n",
    "    months = ['Jan.', 'Feb.', 'Mar.', 'Apr.', 'May', 'June', 'July', 'Aug.', 'Sept.', 'Oct.', 'Nov.', 'Dec.']\n",
    "    injured = df.groupby(['MONTH']).sum()['NUMBER OF PERSONS INJURED']\n",
    "    #wykres:\n",
    "    explode = [0.2,0.2,0.2,0.2,0.2,0.2,0.4,0.4,0.2,0.2,0.2,0.2]\n",
    "    plt.pie(injured,\n",
    "            labels = months, \n",
    "            explode = explode,\n",
    "            autopct = \"%0.2f%%\",\n",
    "            shadow = True, \n",
    "            radius = 2,\n",
    "            startangle = 90,\n",
    "            textprops = {\"fontsize\":13},\n",
    "            wedgeprops = {\"linewidth\": 2, 'width':1.9, \"edgecolor\":\"k\"},\n",
    "            counterclock = False,) \n",
    "\n",
    "    #show + komentarz\n",
    "    print(f'Całkowita liczba rannych: {df[\"NUMBER OF PERSONS INJURED\"].sum()}')\n",
    "    print(\"Rozkład procentowy w ujęciu miesięcznym:\")\n",
    "    plt.show()\n",
    "plotpie_months()"
   ]
  },
  {
   "cell_type": "markdown",
   "id": "322072b0",
   "metadata": {},
   "source": [
    "## Wykres liniowy z rozkładem dobowym wypadków:"
   ]
  },
  {
   "cell_type": "code",
   "execution_count": 19,
   "id": "af2a83d6",
   "metadata": {},
   "outputs": [
    {
     "name": "stdout",
     "output_type": "stream",
     "text": [
      "Rozkład dobowy wypadków:\n"
     ]
    },
    {
     "data": {
      "image/png": "[encoded data removed]",
      "text/plain": [
       "<Figure size 432x288 with 1 Axes>"
      ]
     },
     "metadata": {
      "needs_background": "light"
     },
     "output_type": "display_data"
    }
   ],
   "source": [
    "def plot_24h():\n",
    "    #data:\n",
    "    df['HOUR'] = df['ACCIDENT DATE AND TIME'].dt.hour\n",
    "    #wykres:\n",
    "    plt.plot(range(0,24),df['HOUR'].value_counts(sort=False, ascending=True,).sort_index())\n",
    "    plt.xticks(range(0,24))\n",
    "    plt.grid()\n",
    "\n",
    "    # Show + konetarz:\n",
    "    print('Rozkład dobowy wypadków:')\n",
    "    plt.show()\n",
    "plot_24h()"
   ]
  }
 ],
 "metadata": {
  "kernelspec": {
   "display_name": "Python 3 (ipykernel)",
   "language": "python",
   "name": "python3"
  },
  "language_info": {
   "codemirror_mode": {
    "name": "ipython",
    "version": 3
   },
   "file_extension": ".py",
   "mimetype": "text/x-python",
   "name": "python",
   "nbconvert_exporter": "python",
   "pygments_lexer": "ipython3",
   "version": "3.9.7"
  }
 },
 "nbformat": 4,
 "nbformat_minor": 5
}
